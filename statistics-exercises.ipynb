{
 "cells": [
  {
   "cell_type": "code",
   "execution_count": 9,
   "id": "859656de",
   "metadata": {},
   "outputs": [],
   "source": [
    "import pandas as pd\n",
    "import numpy as np\n",
    "from scipy import stats\n",
    "import matplotlib.pyplot as plt\n",
    "n_trials =100_000"
   ]
  },
  {
   "cell_type": "markdown",
   "id": "e00669ac",
   "metadata": {},
   "source": [
    "How likely is it that you roll doubles when rolling two dice?\n",
    "\n"
   ]
  },
  {
   "cell_type": "code",
   "execution_count": 17,
   "id": "575a8643",
   "metadata": {},
   "outputs": [],
   "source": [
    "#making list of two dice rolling at random \n",
    "outcome = [1,2,3,4,5,6]\n",
    "n_dice = 2"
   ]
  },
  {
   "cell_type": "code",
   "execution_count": 18,
   "id": "2f82364e",
   "metadata": {},
   "outputs": [
    {
     "data": {
      "text/plain": [
       "array([[2, 1],\n",
       "       [4, 4],\n",
       "       [5, 4],\n",
       "       ...,\n",
       "       [5, 1],\n",
       "       [1, 3],\n",
       "       [1, 6]])"
      ]
     },
     "execution_count": 18,
     "metadata": {},
     "output_type": "execute_result"
    }
   ],
   "source": [
    "rolls = np.random.choice(outcome, (n_trails,n_dice))\n",
    "rolls "
   ]
  },
  {
   "cell_type": "code",
   "execution_count": 19,
   "id": "2252882d",
   "metadata": {},
   "outputs": [
    {
     "data": {
      "text/plain": [
       "array([2, 4, 5, ..., 5, 1, 1])"
      ]
     },
     "execution_count": 19,
     "metadata": {},
     "output_type": "execute_result"
    }
   ],
   "source": [
    "rolls[:,0]"
   ]
  },
  {
   "cell_type": "code",
   "execution_count": 20,
   "id": "b2d8e418",
   "metadata": {},
   "outputs": [
    {
     "data": {
      "text/plain": [
       "array([1, 4, 4, ..., 1, 3, 6])"
      ]
     },
     "execution_count": 20,
     "metadata": {},
     "output_type": "execute_result"
    }
   ],
   "source": [
    "rolls[:,1]"
   ]
  },
  {
   "cell_type": "code",
   "execution_count": 21,
   "id": "d9fcdfa3",
   "metadata": {},
   "outputs": [],
   "source": [
    "rolls[:,0] =rolls[:,1]"
   ]
  },
  {
   "cell_type": "code",
   "execution_count": 22,
   "id": "8e1242dc",
   "metadata": {},
   "outputs": [
    {
     "data": {
      "text/plain": [
       "array([[1, 4, 4, ..., 1, 3, 6],\n",
       "       [1, 4, 4, ..., 1, 3, 6]])"
      ]
     },
     "execution_count": 22,
     "metadata": {},
     "output_type": "execute_result"
    }
   ],
   "source": [
    "rolls.T"
   ]
  },
  {
   "cell_type": "code",
   "execution_count": 23,
   "id": "f647bd0e",
   "metadata": {},
   "outputs": [
    {
     "data": {
      "text/plain": [
       "array([1, 4, 4, ..., 1, 3, 6])"
      ]
     },
     "execution_count": 23,
     "metadata": {},
     "output_type": "execute_result"
    }
   ],
   "source": [
    "rolls.T[0]"
   ]
  },
  {
   "cell_type": "code",
   "execution_count": 24,
   "id": "3cac8c38",
   "metadata": {},
   "outputs": [
    {
     "data": {
      "text/plain": [
       "array([1, 4, 4, ..., 1, 3, 6])"
      ]
     },
     "execution_count": 24,
     "metadata": {},
     "output_type": "execute_result"
    }
   ],
   "source": [
    "rolls.T[1]"
   ]
  },
  {
   "cell_type": "code",
   "execution_count": 25,
   "id": "56205dc5",
   "metadata": {},
   "outputs": [
    {
     "data": {
      "text/plain": [
       "array([ True,  True,  True, ...,  True,  True,  True])"
      ]
     },
     "execution_count": 25,
     "metadata": {},
     "output_type": "execute_result"
    }
   ],
   "source": [
    "doubles = rolls[:,0] == rolls[:,1] \n",
    "doubles\n"
   ]
  },
  {
   "cell_type": "code",
   "execution_count": 26,
   "id": "77c12b55",
   "metadata": {},
   "outputs": [
    {
     "data": {
      "text/plain": [
       "100000"
      ]
     },
     "execution_count": 26,
     "metadata": {},
     "output_type": "execute_result"
    }
   ],
   "source": [
    "doubles.sum()\n"
   ]
  },
  {
   "cell_type": "code",
   "execution_count": 28,
   "id": "bda09332",
   "metadata": {},
   "outputs": [
    {
     "data": {
      "text/plain": [
       "100000"
      ]
     },
     "execution_count": 28,
     "metadata": {},
     "output_type": "execute_result"
    }
   ],
   "source": [
    "n_trials"
   ]
  },
  {
   "cell_type": "code",
   "execution_count": 30,
   "id": "9fe2c443",
   "metadata": {},
   "outputs": [
    {
     "data": {
      "text/plain": [
       "100000"
      ]
     },
     "execution_count": 30,
     "metadata": {},
     "output_type": "execute_result"
    }
   ],
   "source": [
    "len(doubles)"
   ]
  },
  {
   "cell_type": "code",
   "execution_count": 29,
   "id": "9c81cb67",
   "metadata": {},
   "outputs": [
    {
     "data": {
      "text/plain": [
       "1.0"
      ]
     },
     "execution_count": 29,
     "metadata": {},
     "output_type": "execute_result"
    }
   ],
   "source": [
    "doubles.sum() / len(doubles)"
   ]
  },
  {
   "cell_type": "code",
   "execution_count": 31,
   "id": "7f2370f9",
   "metadata": {},
   "outputs": [
    {
     "data": {
      "text/plain": [
       "1.0"
      ]
     },
     "execution_count": 31,
     "metadata": {},
     "output_type": "execute_result"
    }
   ],
   "source": [
    "doubles.mean()"
   ]
  },
  {
   "cell_type": "markdown",
   "id": "8b1ff0b3",
   "metadata": {},
   "source": [
    "If you flip 8 coins, what is the probability of getting exactly 3 heads? What is the probability of getting more than 3 heads?"
   ]
  },
  {
   "cell_type": "code",
   "execution_count": 14,
   "id": "3d4478de",
   "metadata": {},
   "outputs": [],
   "source": [
    "outcome = ['h','t']\n",
    "\n",
    "n_coins = 8"
   ]
  },
  {
   "cell_type": "code",
   "execution_count": 15,
   "id": "6ecfafa2",
   "metadata": {},
   "outputs": [
    {
     "data": {
      "text/plain": [
       "array([['h', 't', 'h', ..., 't', 't', 't'],\n",
       "       ['t', 'h', 'h', ..., 't', 't', 't'],\n",
       "       ['h', 'h', 'h', ..., 'h', 'h', 'h'],\n",
       "       ...,\n",
       "       ['h', 'h', 't', ..., 't', 'h', 'h'],\n",
       "       ['t', 't', 't', ..., 't', 'h', 'h'],\n",
       "       ['t', 'h', 'h', ..., 't', 'h', 't']], dtype='<U1')"
      ]
     },
     "execution_count": 15,
     "metadata": {},
     "output_type": "execute_result"
    }
   ],
   "source": [
    "flips = np.random.choice(outcome, (n_trials, n_coins))\n",
    "flips"
   ]
  },
  {
   "cell_type": "code",
   "execution_count": 16,
   "id": "753f0594",
   "metadata": {},
   "outputs": [
    {
     "data": {
      "text/plain": [
       "array([3, 2, 7, ..., 6, 4, 4])"
      ]
     },
     "execution_count": 16,
     "metadata": {},
     "output_type": "execute_result"
    }
   ],
   "source": [
    "heads = (flips == 'h').sum(axis=1)\n",
    "heads\n"
   ]
  },
  {
   "cell_type": "code",
   "execution_count": 17,
   "id": "4e72255d",
   "metadata": {},
   "outputs": [
    {
     "data": {
      "text/plain": [
       "0.2188"
      ]
     },
     "execution_count": 17,
     "metadata": {},
     "output_type": "execute_result"
    }
   ],
   "source": [
    "(heads == 3).mean()"
   ]
  },
  {
   "cell_type": "code",
   "execution_count": 18,
   "id": "d876a76c",
   "metadata": {},
   "outputs": [
    {
     "data": {
      "text/plain": [
       "0.63727"
      ]
     },
     "execution_count": 18,
     "metadata": {},
     "output_type": "execute_result"
    }
   ],
   "source": [
    "(heads > 3).mean()"
   ]
  },
  {
   "cell_type": "markdown",
   "id": "c92e7044",
   "metadata": {},
   "source": [
    "There are approximitely 3 web development cohorts for every 1 data science cohort at Codeup. Assuming that Codeup randomly selects an alumni to put on a billboard, what are the odds that the two billboards I drive past both have data science students on them?"
   ]
  },
  {
   "cell_type": "code",
   "execution_count": 19,
   "id": "3362a2bf",
   "metadata": {},
   "outputs": [],
   "source": [
    "outcome = ['ds', 'wd', 'wd','wd']\n",
    "n_billboard = 2 "
   ]
  },
  {
   "cell_type": "code",
   "execution_count": 20,
   "id": "8742068d",
   "metadata": {},
   "outputs": [
    {
     "data": {
      "text/plain": [
       "array([['wd', 'wd'],\n",
       "       ['ds', 'wd'],\n",
       "       ['wd', 'wd'],\n",
       "       ...,\n",
       "       ['ds', 'wd'],\n",
       "       ['wd', 'wd'],\n",
       "       ['ds', 'wd']], dtype='<U2')"
      ]
     },
     "execution_count": 20,
     "metadata": {},
     "output_type": "execute_result"
    }
   ],
   "source": [
    "billboards = np.random.choice(outcome, (n_trails,n_billboard))\n",
    "billboards"
   ]
  },
  {
   "cell_type": "code",
   "execution_count": 22,
   "id": "7e625fb0",
   "metadata": {},
   "outputs": [
    {
     "data": {
      "text/plain": [
       "array([0, 1, 0, ..., 1, 0, 1])"
      ]
     },
     "execution_count": 22,
     "metadata": {},
     "output_type": "execute_result"
    }
   ],
   "source": [
    "ds_billboard = (billboards == 'ds').sum(axis=1)\n",
    "ds_billboard"
   ]
  },
  {
   "cell_type": "code",
   "execution_count": 23,
   "id": "58de6800",
   "metadata": {},
   "outputs": [
    {
     "data": {
      "text/plain": [
       "0.06289"
      ]
     },
     "execution_count": 23,
     "metadata": {},
     "output_type": "execute_result"
    }
   ],
   "source": [
    "(ds_billboard == 2).mean()"
   ]
  },
  {
   "cell_type": "markdown",
   "id": "04097599",
   "metadata": {},
   "source": [
    "Codeup students buy, on average, 3 poptart packages with a standard deviation of 1.5 a day from the snack vending machine. If on monday the machine is restocked with 17 poptart packages, how likely is it that I will be able to buy some poptarts on Friday afternoon? (Remember, if you have mean and standard deviation, use the np.random.normal) You'll need to make a judgement call on how to handle some of your values\n",
    "\n"
   ]
  },
  {
   "cell_type": "code",
   "execution_count": 24,
   "id": "ca2c1eee",
   "metadata": {},
   "outputs": [],
   "source": [
    "μ = 3.0\n",
    "σ = 1.5\n",
    "n_days = 5 \n",
    "poptart_dist = stats.norm(μ, σ)"
   ]
  },
  {
   "cell_type": "code",
   "execution_count": 26,
   "id": "399a2264",
   "metadata": {},
   "outputs": [
    {
     "data": {
      "text/plain": [
       "array([[2.20619509, 2.0612249 , 3.61737208, 2.60321849, 2.33879744],\n",
       "       [1.31504119, 4.51033193, 7.55085426, 2.38101693, 5.12712882],\n",
       "       [3.89548493, 3.65387867, 4.46084158, 3.05793858, 1.93036442],\n",
       "       ...,\n",
       "       [0.36136288, 2.60858614, 3.30771474, 5.17043941, 3.34148376],\n",
       "       [2.32721383, 2.09287431, 4.99849755, 4.33008179, 3.84431963],\n",
       "       [2.07311417, 1.99719382, 1.13492724, 2.26643432, 3.30817952]])"
      ]
     },
     "execution_count": 26,
     "metadata": {},
     "output_type": "execute_result"
    }
   ],
   "source": [
    "daily = np.random.normal(loc=3, scale=1.5, size=(n_trials,n_days))\n",
    "daily"
   ]
  },
  {
   "cell_type": "code",
   "execution_count": 27,
   "id": "1dfb654d",
   "metadata": {},
   "outputs": [
    {
     "data": {
      "text/plain": [
       "array([12.82680801, 20.88437313, 16.99850818, ..., 14.78958693,\n",
       "       17.59298711, 10.77984907])"
      ]
     },
     "execution_count": 27,
     "metadata": {},
     "output_type": "execute_result"
    }
   ],
   "source": [
    "weekly = daily.sum(axis=1)\n",
    "weekly"
   ]
  },
  {
   "cell_type": "code",
   "execution_count": 28,
   "id": "99df784e",
   "metadata": {},
   "outputs": [
    {
     "data": {
      "text/plain": [
       "0.61656"
      ]
     },
     "execution_count": 28,
     "metadata": {},
     "output_type": "execute_result"
    }
   ],
   "source": [
    "(17 - weekly > 1).mean()"
   ]
  },
  {
   "cell_type": "code",
   "execution_count": 29,
   "id": "4923a7dd",
   "metadata": {},
   "outputs": [
    {
     "data": {
      "text/plain": [
       "0.61656"
      ]
     },
     "execution_count": 29,
     "metadata": {},
     "output_type": "execute_result"
    }
   ],
   "source": [
    "((17 - weekly) >= 1).mean()"
   ]
  },
  {
   "cell_type": "markdown",
   "id": "738a3815",
   "metadata": {},
   "source": [
    "Compare Heights\n",
    "\n",
    "Men have an average height of 178 cm and standard deviation of 8cm.\n",
    "\n",
    "Women have a mean of 170, sd = 6cm.\n",
    "\n",
    "Since you have means and standard deviations, you can use np.random.normal to generate observations.\n",
    "\n",
    "If a man and woman are chosen at random, what is the likelihood the woman is taller than the man?"
   ]
  },
  {
   "cell_type": "code",
   "execution_count": 42,
   "id": "c7f2f798",
   "metadata": {},
   "outputs": [],
   "source": [
    "mean_men = 178\n",
    "sd_men = 8\n",
    "\n",
    "\n",
    "mean_women = 170\n",
    "sd_women = 6"
   ]
  },
  {
   "cell_type": "code",
   "execution_count": 43,
   "id": "ddbb5bf9",
   "metadata": {},
   "outputs": [],
   "source": [
    "n_trials = 10_000"
   ]
  },
  {
   "cell_type": "code",
   "execution_count": 47,
   "id": "15c5285f",
   "metadata": {},
   "outputs": [
    {
     "data": {
      "text/plain": [
       "array([175.93885746, 174.61677551, 175.75437261, ..., 188.38556339,\n",
       "       167.25597189, 186.24407198])"
      ]
     },
     "execution_count": 47,
     "metadata": {},
     "output_type": "execute_result"
    }
   ],
   "source": [
    "height_men = np.random.normal(mean_men,sd_men,n_trials)\n",
    "height_men"
   ]
  },
  {
   "cell_type": "code",
   "execution_count": 48,
   "id": "745973f2",
   "metadata": {},
   "outputs": [
    {
     "data": {
      "text/plain": [
       "array([181.01780569, 168.9845852 , 169.74231719, ..., 172.8660817 ,\n",
       "       169.09357649, 162.00955799])"
      ]
     },
     "execution_count": 48,
     "metadata": {},
     "output_type": "execute_result"
    }
   ],
   "source": [
    "heights_women = np.random.normal(mean_women, sd_women, n_trials)\n",
    "heights_women"
   ]
  },
  {
   "cell_type": "code",
   "execution_count": 50,
   "id": "052f9e5b",
   "metadata": {},
   "outputs": [
    {
     "data": {
      "text/plain": [
       "0.2027"
      ]
     },
     "execution_count": 50,
     "metadata": {},
     "output_type": "execute_result"
    }
   ],
   "source": [
    "(heights_women > height_men).mean()"
   ]
  },
  {
   "cell_type": "markdown",
   "id": "d2983e71",
   "metadata": {},
   "source": [
    "When installing anaconda on a student's computer, there's a 1 in 250 chance that the download is corrupted and the installation fails. What are the odds that after having 50 students download anaconda, no one has an installation issue? 100 students?\n",
    "\n",
    "What is the probability that we observe an installation issue within the first 150 students that download anaconda?\n",
    "\n",
    "How likely is it that 450 students all download anaconda without an issue?"
   ]
  },
  {
   "cell_type": "code",
   "execution_count": 51,
   "id": "247933a3",
   "metadata": {},
   "outputs": [],
   "source": [
    "outcomes = ['p','f']\n",
    "probs_outcomes = [249/250, 1/250]\n",
    "n_students = 50"
   ]
  },
  {
   "cell_type": "code",
   "execution_count": 52,
   "id": "5276344a",
   "metadata": {},
   "outputs": [
    {
     "data": {
      "text/plain": [
       "array([['p', 'p', 'p', ..., 'p', 'p', 'p'],\n",
       "       ['p', 'p', 'p', ..., 'p', 'p', 'p'],\n",
       "       ['p', 'p', 'p', ..., 'p', 'p', 'p'],\n",
       "       ...,\n",
       "       ['p', 'p', 'p', ..., 'p', 'p', 'p'],\n",
       "       ['p', 'p', 'p', ..., 'p', 'p', 'p'],\n",
       "       ['p', 'p', 'p', ..., 'p', 'p', 'p']], dtype='<U1')"
      ]
     },
     "execution_count": 52,
     "metadata": {},
     "output_type": "execute_result"
    }
   ],
   "source": [
    "installs = np.random.choice(outcomes, (n_trials, n_students),\n",
    "                p=probs_outcomes)\n",
    "installs\n"
   ]
  },
  {
   "cell_type": "code",
   "execution_count": 53,
   "id": "dc66cf64",
   "metadata": {},
   "outputs": [
    {
     "data": {
      "text/plain": [
       "array([1, 0, 0, ..., 0, 0, 0])"
      ]
     },
     "execution_count": 53,
     "metadata": {},
     "output_type": "execute_result"
    }
   ],
   "source": [
    "total_fails = (installs == 'f').sum(axis=1)\n",
    "total_fails\n"
   ]
  },
  {
   "cell_type": "code",
   "execution_count": 54,
   "id": "7f9f66ff",
   "metadata": {},
   "outputs": [
    {
     "data": {
      "text/plain": [
       "0.8153"
      ]
     },
     "execution_count": 54,
     "metadata": {},
     "output_type": "execute_result"
    }
   ],
   "source": [
    "(total_fails == 0).mean()\n"
   ]
  },
  {
   "cell_type": "code",
   "execution_count": 55,
   "id": "951e95d3",
   "metadata": {},
   "outputs": [
    {
     "data": {
      "text/plain": [
       "0.6651"
      ]
     },
     "execution_count": 55,
     "metadata": {},
     "output_type": "execute_result"
    }
   ],
   "source": [
    "n_students = 100\n",
    "\n",
    "installs = np.random.choice(outcomes, (n_trials, n_students),\n",
    "                p=probs_outcomes)\n",
    "total_fails = (installs == 'f').sum(axis=1)\n",
    "\n",
    "(total_fails == 0).mean()"
   ]
  },
  {
   "cell_type": "code",
   "execution_count": 56,
   "id": "8d376fa7",
   "metadata": {},
   "outputs": [
    {
     "data": {
      "text/plain": [
       "0.4592"
      ]
     },
     "execution_count": 56,
     "metadata": {},
     "output_type": "execute_result"
    }
   ],
   "source": [
    "n_students = 150\n",
    "\n",
    "installs = np.random.choice(outcomes, (n_trials, n_students),\n",
    "                p=probs_outcomes)\n",
    "total_fails = (installs == 'f').sum(axis=1)\n",
    "\n",
    "(total_fails > 0).mean()"
   ]
  },
  {
   "cell_type": "code",
   "execution_count": 57,
   "id": "7acf9ad1",
   "metadata": {},
   "outputs": [
    {
     "data": {
      "text/plain": [
       "0.1656"
      ]
     },
     "execution_count": 57,
     "metadata": {},
     "output_type": "execute_result"
    }
   ],
   "source": [
    "n_students = 450\n",
    "\n",
    "installs = np.random.choice(outcomes, (n_trials, n_students),\n",
    "                p=probs_outcomes)\n",
    "total_fails = (installs == 'f').sum(axis=1)\n",
    "\n",
    "(total_fails == 0).mean()\n"
   ]
  },
  {
   "cell_type": "markdown",
   "id": "2dd410a6",
   "metadata": {},
   "source": [
    "There's a 70% chance on any given day that there will be at least one food truck at Travis Park. However, you haven't seen a food truck there in 3 days. How unlikely is this?\n",
    "\n",
    "How likely is it that a food truck will show up sometime this week?"
   ]
  },
  {
   "cell_type": "code",
   "execution_count": 58,
   "id": "99d8d710",
   "metadata": {},
   "outputs": [],
   "source": [
    "p_truck = 0.7\n",
    "n_days = 3"
   ]
  },
  {
   "cell_type": "code",
   "execution_count": 59,
   "id": "d2e2670b",
   "metadata": {},
   "outputs": [
    {
     "data": {
      "text/plain": [
       "array([[0.19651258, 0.98129325, 0.55568014],\n",
       "       [0.50614104, 0.41748362, 0.29270759],\n",
       "       [0.1958571 , 0.00689099, 0.27673156],\n",
       "       ...,\n",
       "       [0.49189427, 0.84503755, 0.14221551],\n",
       "       [0.63321952, 0.7973471 , 0.35218494],\n",
       "       [0.92450561, 0.26600147, 0.67478758]])"
      ]
     },
     "execution_count": 59,
     "metadata": {},
     "output_type": "execute_result"
    }
   ],
   "source": [
    "is_truck_question = np.random.random((n_trials, n_days))\n",
    "is_truck_question"
   ]
  },
  {
   "cell_type": "code",
   "execution_count": 60,
   "id": "59ef3aaa",
   "metadata": {},
   "outputs": [
    {
     "data": {
      "text/plain": [
       "array([[ True, False,  True],\n",
       "       [ True,  True,  True],\n",
       "       [ True,  True,  True],\n",
       "       ...,\n",
       "       [ True, False,  True],\n",
       "       [ True, False,  True],\n",
       "       [False,  True,  True]])"
      ]
     },
     "execution_count": 60,
     "metadata": {},
     "output_type": "execute_result"
    }
   ],
   "source": [
    "yes_truck = is_truck_question < p_truck\n",
    "yes_truck"
   ]
  },
  {
   "cell_type": "code",
   "execution_count": 61,
   "id": "c79d91d6",
   "metadata": {},
   "outputs": [
    {
     "data": {
      "text/plain": [
       "0.0254"
      ]
     },
     "execution_count": 61,
     "metadata": {},
     "output_type": "execute_result"
    }
   ],
   "source": [
    "(yes_truck.sum(axis=1) == 0).mean()"
   ]
  },
  {
   "cell_type": "code",
   "execution_count": 70,
   "id": "450e023b",
   "metadata": {},
   "outputs": [],
   "source": [
    "n_days = 5"
   ]
  },
  {
   "cell_type": "code",
   "execution_count": 71,
   "id": "6671d347",
   "metadata": {},
   "outputs": [
    {
     "data": {
      "text/plain": [
       "0.9965"
      ]
     },
     "execution_count": 71,
     "metadata": {},
     "output_type": "execute_result"
    }
   ],
   "source": [
    "is_truck_question = np.random.random((n_trials, n_days))\n",
    "\n",
    "yes_truck = is_truck_question < p_truck\n",
    "\n",
    "(yes_truck.sum(axis=1) >= 1).mean()"
   ]
  },
  {
   "cell_type": "markdown",
   "id": "eeb68805",
   "metadata": {},
   "source": [
    "If 23 people are in the same room, what are the odds that two of them share a birthday? \n",
    "What if it's 20 people? 40?"
   ]
  },
  {
   "cell_type": "markdown",
   "id": "ef001980",
   "metadata": {},
   "source": [
    "50.73%"
   ]
  },
  {
   "cell_type": "code",
   "execution_count": 72,
   "id": "a587c494",
   "metadata": {},
   "outputs": [],
   "source": [
    "n_people = 23\n",
    "outcomes = list(range(1,366))"
   ]
  },
  {
   "cell_type": "code",
   "execution_count": 73,
   "id": "a829915e",
   "metadata": {},
   "outputs": [
    {
     "data": {
      "text/plain": [
       "array([[ 87,  46, 183, ..., 212, 174, 104],\n",
       "       [215,  97, 251, ..., 345, 117, 203],\n",
       "       [134,  56,  70, ...,  80, 166, 279],\n",
       "       ...,\n",
       "       [162, 140,  25, ..., 157, 321, 123],\n",
       "       [182, 158, 338, ...,  10, 213, 285],\n",
       "       [ 91, 155, 270, ...,  90,  53, 277]])"
      ]
     },
     "execution_count": 73,
     "metadata": {},
     "output_type": "execute_result"
    }
   ],
   "source": [
    "birthdays = np.random.choice(outcomes, (n_trials, n_people))\n",
    "birthdays"
   ]
  },
  {
   "cell_type": "code",
   "execution_count": 74,
   "id": "437b77f5",
   "metadata": {
    "scrolled": true
   },
   "outputs": [
    {
     "data": {
      "text/html": [
       "<div>\n",
       "<style scoped>\n",
       "    .dataframe tbody tr th:only-of-type {\n",
       "        vertical-align: middle;\n",
       "    }\n",
       "\n",
       "    .dataframe tbody tr th {\n",
       "        vertical-align: top;\n",
       "    }\n",
       "\n",
       "    .dataframe thead th {\n",
       "        text-align: right;\n",
       "    }\n",
       "</style>\n",
       "<table border=\"1\" class=\"dataframe\">\n",
       "  <thead>\n",
       "    <tr style=\"text-align: right;\">\n",
       "      <th></th>\n",
       "      <th>0</th>\n",
       "      <th>1</th>\n",
       "      <th>2</th>\n",
       "      <th>3</th>\n",
       "      <th>4</th>\n",
       "      <th>5</th>\n",
       "      <th>6</th>\n",
       "      <th>7</th>\n",
       "      <th>8</th>\n",
       "      <th>9</th>\n",
       "      <th>...</th>\n",
       "      <th>13</th>\n",
       "      <th>14</th>\n",
       "      <th>15</th>\n",
       "      <th>16</th>\n",
       "      <th>17</th>\n",
       "      <th>18</th>\n",
       "      <th>19</th>\n",
       "      <th>20</th>\n",
       "      <th>21</th>\n",
       "      <th>22</th>\n",
       "    </tr>\n",
       "  </thead>\n",
       "  <tbody>\n",
       "    <tr>\n",
       "      <th>0</th>\n",
       "      <td>87</td>\n",
       "      <td>46</td>\n",
       "      <td>183</td>\n",
       "      <td>87</td>\n",
       "      <td>350</td>\n",
       "      <td>88</td>\n",
       "      <td>206</td>\n",
       "      <td>275</td>\n",
       "      <td>351</td>\n",
       "      <td>72</td>\n",
       "      <td>...</td>\n",
       "      <td>172</td>\n",
       "      <td>153</td>\n",
       "      <td>3</td>\n",
       "      <td>258</td>\n",
       "      <td>327</td>\n",
       "      <td>170</td>\n",
       "      <td>198</td>\n",
       "      <td>212</td>\n",
       "      <td>174</td>\n",
       "      <td>104</td>\n",
       "    </tr>\n",
       "    <tr>\n",
       "      <th>1</th>\n",
       "      <td>215</td>\n",
       "      <td>97</td>\n",
       "      <td>251</td>\n",
       "      <td>120</td>\n",
       "      <td>229</td>\n",
       "      <td>188</td>\n",
       "      <td>18</td>\n",
       "      <td>23</td>\n",
       "      <td>183</td>\n",
       "      <td>119</td>\n",
       "      <td>...</td>\n",
       "      <td>49</td>\n",
       "      <td>304</td>\n",
       "      <td>227</td>\n",
       "      <td>52</td>\n",
       "      <td>342</td>\n",
       "      <td>78</td>\n",
       "      <td>76</td>\n",
       "      <td>345</td>\n",
       "      <td>117</td>\n",
       "      <td>203</td>\n",
       "    </tr>\n",
       "    <tr>\n",
       "      <th>2</th>\n",
       "      <td>134</td>\n",
       "      <td>56</td>\n",
       "      <td>70</td>\n",
       "      <td>19</td>\n",
       "      <td>283</td>\n",
       "      <td>182</td>\n",
       "      <td>58</td>\n",
       "      <td>51</td>\n",
       "      <td>115</td>\n",
       "      <td>330</td>\n",
       "      <td>...</td>\n",
       "      <td>99</td>\n",
       "      <td>344</td>\n",
       "      <td>112</td>\n",
       "      <td>58</td>\n",
       "      <td>116</td>\n",
       "      <td>82</td>\n",
       "      <td>208</td>\n",
       "      <td>80</td>\n",
       "      <td>166</td>\n",
       "      <td>279</td>\n",
       "    </tr>\n",
       "    <tr>\n",
       "      <th>3</th>\n",
       "      <td>238</td>\n",
       "      <td>141</td>\n",
       "      <td>80</td>\n",
       "      <td>365</td>\n",
       "      <td>204</td>\n",
       "      <td>346</td>\n",
       "      <td>200</td>\n",
       "      <td>65</td>\n",
       "      <td>180</td>\n",
       "      <td>190</td>\n",
       "      <td>...</td>\n",
       "      <td>69</td>\n",
       "      <td>2</td>\n",
       "      <td>281</td>\n",
       "      <td>160</td>\n",
       "      <td>349</td>\n",
       "      <td>185</td>\n",
       "      <td>120</td>\n",
       "      <td>67</td>\n",
       "      <td>139</td>\n",
       "      <td>237</td>\n",
       "    </tr>\n",
       "    <tr>\n",
       "      <th>4</th>\n",
       "      <td>202</td>\n",
       "      <td>7</td>\n",
       "      <td>45</td>\n",
       "      <td>205</td>\n",
       "      <td>91</td>\n",
       "      <td>256</td>\n",
       "      <td>38</td>\n",
       "      <td>206</td>\n",
       "      <td>216</td>\n",
       "      <td>273</td>\n",
       "      <td>...</td>\n",
       "      <td>98</td>\n",
       "      <td>303</td>\n",
       "      <td>170</td>\n",
       "      <td>197</td>\n",
       "      <td>258</td>\n",
       "      <td>212</td>\n",
       "      <td>209</td>\n",
       "      <td>119</td>\n",
       "      <td>324</td>\n",
       "      <td>149</td>\n",
       "    </tr>\n",
       "  </tbody>\n",
       "</table>\n",
       "<p>5 rows × 23 columns</p>\n",
       "</div>"
      ],
      "text/plain": [
       "    0    1    2    3    4    5    6    7    8    9   ...   13   14   15   16  \\\n",
       "0   87   46  183   87  350   88  206  275  351   72  ...  172  153    3  258   \n",
       "1  215   97  251  120  229  188   18   23  183  119  ...   49  304  227   52   \n",
       "2  134   56   70   19  283  182   58   51  115  330  ...   99  344  112   58   \n",
       "3  238  141   80  365  204  346  200   65  180  190  ...   69    2  281  160   \n",
       "4  202    7   45  205   91  256   38  206  216  273  ...   98  303  170  197   \n",
       "\n",
       "    17   18   19   20   21   22  \n",
       "0  327  170  198  212  174  104  \n",
       "1  342   78   76  345  117  203  \n",
       "2  116   82  208   80  166  279  \n",
       "3  349  185  120   67  139  237  \n",
       "4  258  212  209  119  324  149  \n",
       "\n",
       "[5 rows x 23 columns]"
      ]
     },
     "execution_count": 74,
     "metadata": {},
     "output_type": "execute_result"
    }
   ],
   "source": [
    "birthdays = pd.DataFrame(birthdays)\n",
    "birthdays.head()"
   ]
  },
  {
   "cell_type": "code",
   "execution_count": 75,
   "id": "fa7750f2",
   "metadata": {},
   "outputs": [
    {
     "data": {
      "text/plain": [
       "0       22\n",
       "1       23\n",
       "2       22\n",
       "3       23\n",
       "4       23\n",
       "        ..\n",
       "9995    22\n",
       "9996    23\n",
       "9997    22\n",
       "9998    23\n",
       "9999    22\n",
       "Length: 10000, dtype: int64"
      ]
     },
     "execution_count": 75,
     "metadata": {},
     "output_type": "execute_result"
    }
   ],
   "source": [
    "birthdays.nunique(axis=1)"
   ]
  },
  {
   "cell_type": "code",
   "execution_count": 76,
   "id": "cc2f9dc1",
   "metadata": {},
   "outputs": [
    {
     "data": {
      "text/plain": [
       "0.5095"
      ]
     },
     "execution_count": 76,
     "metadata": {},
     "output_type": "execute_result"
    }
   ],
   "source": [
    "(birthdays.nunique(axis=1) < n_people).mean()"
   ]
  },
  {
   "cell_type": "code",
   "execution_count": null,
   "id": "86855107",
   "metadata": {},
   "outputs": [],
   "source": []
  },
  {
   "cell_type": "code",
   "execution_count": 77,
   "id": "87c54bed",
   "metadata": {},
   "outputs": [
    {
     "data": {
      "text/plain": [
       "0.4095"
      ]
     },
     "execution_count": 77,
     "metadata": {},
     "output_type": "execute_result"
    }
   ],
   "source": [
    "n_people = 20\n",
    "\n",
    "birthdays = np.random.choice(outcomes, (n_trials, n_people))\n",
    "birthdays = pd.DataFrame(birthdays)\n",
    "\n",
    "(birthdays.nunique(axis=1) < n_people).mean()"
   ]
  },
  {
   "cell_type": "code",
   "execution_count": null,
   "id": "bbe9e742",
   "metadata": {},
   "outputs": [],
   "source": []
  },
  {
   "cell_type": "code",
   "execution_count": 78,
   "id": "115db635",
   "metadata": {},
   "outputs": [
    {
     "data": {
      "text/plain": [
       "0.8887"
      ]
     },
     "execution_count": 78,
     "metadata": {},
     "output_type": "execute_result"
    }
   ],
   "source": [
    "n_people = 40\n",
    "\n",
    "birthdays = np.random.choice(outcomes, (n_trials, n_people))\n",
    "birthdays = pd.DataFrame(birthdays)\n",
    "\n",
    "(birthdays.nunique(axis=1) < n_people).mean()"
   ]
  },
  {
   "cell_type": "code",
   "execution_count": null,
   "id": "a18f7d03",
   "metadata": {},
   "outputs": [],
   "source": []
  }
 ],
 "metadata": {
  "kernelspec": {
   "display_name": "Python 3 (ipykernel)",
   "language": "python",
   "name": "python3"
  },
  "language_info": {
   "codemirror_mode": {
    "name": "ipython",
    "version": 3
   },
   "file_extension": ".py",
   "mimetype": "text/x-python",
   "name": "python",
   "nbconvert_exporter": "python",
   "pygments_lexer": "ipython3",
   "version": "3.11.5"
  }
 },
 "nbformat": 4,
 "nbformat_minor": 5
}
