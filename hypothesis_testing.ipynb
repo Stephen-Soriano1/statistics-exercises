{
 "cells": [
  {
   "cell_type": "markdown",
   "id": "aba385db",
   "metadata": {},
   "source": [
    "For each of the following questions, formulate a null and alternative hypothesis (be as specific as you can be), then give an example of what a true positive, true negative, type I and type II errors would look like. Note that some of the questions are intentionally phrased in a vague way. It is your job to reword these as more precise questions that could be tested.`"
   ]
  },
  {
   "cell_type": "markdown",
   "id": "c7d8d46e",
   "metadata": {},
   "source": [
    "Hypothese - Has the network latency gone up since we switched internet service providers?\n"
   ]
  },
  {
   "cell_type": "markdown",
   "id": "c9b93f07",
   "metadata": {},
   "source": [
    "null - switch internet providers has not affact the network latency\n",
    "alternative -switching interent provider has affact the latency "
   ]
  },
  {
   "cell_type": "markdown",
   "id": "d25d1787",
   "metadata": {},
   "source": [
    "type 1(false positive)  - "
   ]
  },
  {
   "cell_type": "markdown",
   "id": "600c256b",
   "metadata": {},
   "source": [
    "type 2 -"
   ]
  },
  {
   "cell_type": "markdown",
   "id": "8b81a3e9",
   "metadata": {},
   "source": [
    "Is the website redesign any good?\n"
   ]
  },
  {
   "cell_type": "markdown",
   "id": "f82a816e",
   "metadata": {},
   "source": [
    "null\n",
    "alternative"
   ]
  },
  {
   "cell_type": "markdown",
   "id": "cd8b4f20",
   "metadata": {},
   "source": [
    "type 1"
   ]
  },
  {
   "cell_type": "markdown",
   "id": "d1faa441",
   "metadata": {},
   "source": [
    "type 2"
   ]
  },
  {
   "cell_type": "markdown",
   "id": "e198a091",
   "metadata": {},
   "source": [
    "Is our television ad driving more sales?\n"
   ]
  },
  {
   "cell_type": "markdown",
   "id": "4ea4a45b",
   "metadata": {},
   "source": [
    "null\n",
    "alternative "
   ]
  },
  {
   "cell_type": "markdown",
   "id": "b202d012",
   "metadata": {},
   "source": [
    "type 1 "
   ]
  },
  {
   "cell_type": "markdown",
   "id": "228bcd09",
   "metadata": {},
   "source": [
    "type 2"
   ]
  },
  {
   "cell_type": "code",
   "execution_count": null,
   "id": "ea5589cd",
   "metadata": {},
   "outputs": [],
   "source": []
  },
  {
   "cell_type": "markdown",
   "id": "b0f6a0c2",
   "metadata": {},
   "source": [
    "PART 2 "
   ]
  },
  {
   "cell_type": "code",
   "execution_count": 5,
   "id": "00d3a703",
   "metadata": {},
   "outputs": [],
   "source": [
    "\n",
    "import pandas as pd\n",
    "import numpy as np\n",
    "\n",
    "from pydataset import data\n",
    "\n",
    "from scipy import stats\n"
   ]
  },
  {
   "cell_type": "markdown",
   "id": "36304647",
   "metadata": {},
   "source": [
    "Use the following contingency table to help answer the question of whether using a Macbook and being a Codeup student are independent of each other."
   ]
  },
  {
   "cell_type": "code",
   "execution_count": 84,
   "id": "6dc56108",
   "metadata": {},
   "outputs": [
    {
     "ename": "SyntaxError",
     "evalue": "invalid syntax (3628712847.py, line 1)",
     "output_type": "error",
     "traceback": [
      "\u001b[0;36m  Cell \u001b[0;32mIn[84], line 1\u001b[0;36m\u001b[0m\n\u001b[0;31m    data_dict = ('Codeup Students':[49,1], 'Not a Codeup' : [20,30])\u001b[0m\n\u001b[0m                                  ^\u001b[0m\n\u001b[0;31mSyntaxError\u001b[0m\u001b[0;31m:\u001b[0m invalid syntax\n"
     ]
    }
   ],
   "source": [
    "data_dict = ('Codeup Students':[49,1], 'Not a Codeup' : [20,30])\n",
    "data_dict"
   ]
  },
  {
   "cell_type": "markdown",
   "id": "2ed0b172",
   "metadata": {},
   "source": [
    "null - There is no relationship between a code student and using a macbook \n",
    "alternative -There is relationship between a code student and using a macbook  "
   ]
  },
  {
   "cell_type": "code",
   "execution_count": null,
   "id": "05ffa9a0",
   "metadata": {},
   "outputs": [],
   "source": []
  },
  {
   "cell_type": "code",
   "execution_count": null,
   "id": "42e8a0cb",
   "metadata": {},
   "outputs": [],
   "source": []
  },
  {
   "cell_type": "code",
   "execution_count": null,
   "id": "0e6e952b",
   "metadata": {},
   "outputs": [],
   "source": []
  },
  {
   "cell_type": "markdown",
   "id": "9af62689",
   "metadata": {},
   "source": [
    "Choose another 2 categorical variables from the mpg dataset."
   ]
  },
  {
   "cell_type": "code",
   "execution_count": 40,
   "id": "4f03dafc",
   "metadata": {
    "scrolled": true
   },
   "outputs": [],
   "source": [
    "df = data('mpg')\n",
    "# df.head()"
   ]
  },
  {
   "cell_type": "code",
   "execution_count": 50,
   "id": "52765ed4",
   "metadata": {},
   "outputs": [
    {
     "data": {
      "text/html": [
       "<div>\n",
       "<style scoped>\n",
       "    .dataframe tbody tr th:only-of-type {\n",
       "        vertical-align: middle;\n",
       "    }\n",
       "\n",
       "    .dataframe tbody tr th {\n",
       "        vertical-align: top;\n",
       "    }\n",
       "\n",
       "    .dataframe thead th {\n",
       "        text-align: right;\n",
       "    }\n",
       "</style>\n",
       "<table border=\"1\" class=\"dataframe\">\n",
       "  <thead>\n",
       "    <tr style=\"text-align: right;\">\n",
       "      <th></th>\n",
       "      <th>manufacturer</th>\n",
       "      <th>model</th>\n",
       "      <th>displ</th>\n",
       "      <th>year</th>\n",
       "      <th>cyl</th>\n",
       "      <th>trans</th>\n",
       "      <th>drv</th>\n",
       "      <th>cty</th>\n",
       "      <th>hwy</th>\n",
       "      <th>fl</th>\n",
       "      <th>class</th>\n",
       "      <th>is_automatic</th>\n",
       "    </tr>\n",
       "  </thead>\n",
       "  <tbody>\n",
       "    <tr>\n",
       "      <th>1</th>\n",
       "      <td>audi</td>\n",
       "      <td>a4</td>\n",
       "      <td>1.8</td>\n",
       "      <td>1999</td>\n",
       "      <td>4</td>\n",
       "      <td>auto(l5)</td>\n",
       "      <td>f</td>\n",
       "      <td>18</td>\n",
       "      <td>29</td>\n",
       "      <td>p</td>\n",
       "      <td>compact</td>\n",
       "      <td>auto</td>\n",
       "    </tr>\n",
       "    <tr>\n",
       "      <th>2</th>\n",
       "      <td>audi</td>\n",
       "      <td>a4</td>\n",
       "      <td>1.8</td>\n",
       "      <td>1999</td>\n",
       "      <td>4</td>\n",
       "      <td>manual(m5)</td>\n",
       "      <td>f</td>\n",
       "      <td>21</td>\n",
       "      <td>29</td>\n",
       "      <td>p</td>\n",
       "      <td>compact</td>\n",
       "      <td>mannal</td>\n",
       "    </tr>\n",
       "    <tr>\n",
       "      <th>3</th>\n",
       "      <td>audi</td>\n",
       "      <td>a4</td>\n",
       "      <td>2.0</td>\n",
       "      <td>2008</td>\n",
       "      <td>4</td>\n",
       "      <td>manual(m6)</td>\n",
       "      <td>f</td>\n",
       "      <td>20</td>\n",
       "      <td>31</td>\n",
       "      <td>p</td>\n",
       "      <td>compact</td>\n",
       "      <td>mannal</td>\n",
       "    </tr>\n",
       "    <tr>\n",
       "      <th>4</th>\n",
       "      <td>audi</td>\n",
       "      <td>a4</td>\n",
       "      <td>2.0</td>\n",
       "      <td>2008</td>\n",
       "      <td>4</td>\n",
       "      <td>auto(av)</td>\n",
       "      <td>f</td>\n",
       "      <td>21</td>\n",
       "      <td>30</td>\n",
       "      <td>p</td>\n",
       "      <td>compact</td>\n",
       "      <td>auto</td>\n",
       "    </tr>\n",
       "    <tr>\n",
       "      <th>5</th>\n",
       "      <td>audi</td>\n",
       "      <td>a4</td>\n",
       "      <td>2.8</td>\n",
       "      <td>1999</td>\n",
       "      <td>6</td>\n",
       "      <td>auto(l5)</td>\n",
       "      <td>f</td>\n",
       "      <td>16</td>\n",
       "      <td>26</td>\n",
       "      <td>p</td>\n",
       "      <td>compact</td>\n",
       "      <td>auto</td>\n",
       "    </tr>\n",
       "    <tr>\n",
       "      <th>...</th>\n",
       "      <td>...</td>\n",
       "      <td>...</td>\n",
       "      <td>...</td>\n",
       "      <td>...</td>\n",
       "      <td>...</td>\n",
       "      <td>...</td>\n",
       "      <td>...</td>\n",
       "      <td>...</td>\n",
       "      <td>...</td>\n",
       "      <td>...</td>\n",
       "      <td>...</td>\n",
       "      <td>...</td>\n",
       "    </tr>\n",
       "    <tr>\n",
       "      <th>230</th>\n",
       "      <td>volkswagen</td>\n",
       "      <td>passat</td>\n",
       "      <td>2.0</td>\n",
       "      <td>2008</td>\n",
       "      <td>4</td>\n",
       "      <td>auto(s6)</td>\n",
       "      <td>f</td>\n",
       "      <td>19</td>\n",
       "      <td>28</td>\n",
       "      <td>p</td>\n",
       "      <td>midsize</td>\n",
       "      <td>auto</td>\n",
       "    </tr>\n",
       "    <tr>\n",
       "      <th>231</th>\n",
       "      <td>volkswagen</td>\n",
       "      <td>passat</td>\n",
       "      <td>2.0</td>\n",
       "      <td>2008</td>\n",
       "      <td>4</td>\n",
       "      <td>manual(m6)</td>\n",
       "      <td>f</td>\n",
       "      <td>21</td>\n",
       "      <td>29</td>\n",
       "      <td>p</td>\n",
       "      <td>midsize</td>\n",
       "      <td>mannal</td>\n",
       "    </tr>\n",
       "    <tr>\n",
       "      <th>232</th>\n",
       "      <td>volkswagen</td>\n",
       "      <td>passat</td>\n",
       "      <td>2.8</td>\n",
       "      <td>1999</td>\n",
       "      <td>6</td>\n",
       "      <td>auto(l5)</td>\n",
       "      <td>f</td>\n",
       "      <td>16</td>\n",
       "      <td>26</td>\n",
       "      <td>p</td>\n",
       "      <td>midsize</td>\n",
       "      <td>auto</td>\n",
       "    </tr>\n",
       "    <tr>\n",
       "      <th>233</th>\n",
       "      <td>volkswagen</td>\n",
       "      <td>passat</td>\n",
       "      <td>2.8</td>\n",
       "      <td>1999</td>\n",
       "      <td>6</td>\n",
       "      <td>manual(m5)</td>\n",
       "      <td>f</td>\n",
       "      <td>18</td>\n",
       "      <td>26</td>\n",
       "      <td>p</td>\n",
       "      <td>midsize</td>\n",
       "      <td>mannal</td>\n",
       "    </tr>\n",
       "    <tr>\n",
       "      <th>234</th>\n",
       "      <td>volkswagen</td>\n",
       "      <td>passat</td>\n",
       "      <td>3.6</td>\n",
       "      <td>2008</td>\n",
       "      <td>6</td>\n",
       "      <td>auto(s6)</td>\n",
       "      <td>f</td>\n",
       "      <td>17</td>\n",
       "      <td>26</td>\n",
       "      <td>p</td>\n",
       "      <td>midsize</td>\n",
       "      <td>auto</td>\n",
       "    </tr>\n",
       "  </tbody>\n",
       "</table>\n",
       "<p>234 rows × 12 columns</p>\n",
       "</div>"
      ],
      "text/plain": [
       "    manufacturer   model  displ  year  cyl       trans drv  cty  hwy fl  \\\n",
       "1           audi      a4    1.8  1999    4    auto(l5)   f   18   29  p   \n",
       "2           audi      a4    1.8  1999    4  manual(m5)   f   21   29  p   \n",
       "3           audi      a4    2.0  2008    4  manual(m6)   f   20   31  p   \n",
       "4           audi      a4    2.0  2008    4    auto(av)   f   21   30  p   \n",
       "5           audi      a4    2.8  1999    6    auto(l5)   f   16   26  p   \n",
       "..           ...     ...    ...   ...  ...         ...  ..  ...  ... ..   \n",
       "230   volkswagen  passat    2.0  2008    4    auto(s6)   f   19   28  p   \n",
       "231   volkswagen  passat    2.0  2008    4  manual(m6)   f   21   29  p   \n",
       "232   volkswagen  passat    2.8  1999    6    auto(l5)   f   16   26  p   \n",
       "233   volkswagen  passat    2.8  1999    6  manual(m5)   f   18   26  p   \n",
       "234   volkswagen  passat    3.6  2008    6    auto(s6)   f   17   26  p   \n",
       "\n",
       "       class is_automatic  \n",
       "1    compact         auto  \n",
       "2    compact       mannal  \n",
       "3    compact       mannal  \n",
       "4    compact         auto  \n",
       "5    compact         auto  \n",
       "..       ...          ...  \n",
       "230  midsize         auto  \n",
       "231  midsize       mannal  \n",
       "232  midsize         auto  \n",
       "233  midsize       mannal  \n",
       "234  midsize         auto  \n",
       "\n",
       "[234 rows x 12 columns]"
      ]
     },
     "execution_count": 50,
     "metadata": {},
     "output_type": "execute_result"
    }
   ],
   "source": [
    "df[\"is_automatic\"] = np.where(df.trans.str.startswith('a'), 'auto', 'mannal')\n",
    "df"
   ]
  },
  {
   "cell_type": "code",
   "execution_count": 51,
   "id": "c55e1738",
   "metadata": {},
   "outputs": [
    {
     "name": "stdout",
     "output_type": "stream",
     "text": [
      "<class 'pandas.core.frame.DataFrame'>\n",
      "Index: 234 entries, 1 to 234\n",
      "Data columns (total 12 columns):\n",
      " #   Column        Non-Null Count  Dtype  \n",
      "---  ------        --------------  -----  \n",
      " 0   manufacturer  234 non-null    object \n",
      " 1   model         234 non-null    object \n",
      " 2   displ         234 non-null    float64\n",
      " 3   year          234 non-null    int64  \n",
      " 4   cyl           234 non-null    int64  \n",
      " 5   trans         234 non-null    object \n",
      " 6   drv           234 non-null    object \n",
      " 7   cty           234 non-null    int64  \n",
      " 8   hwy           234 non-null    int64  \n",
      " 9   fl            234 non-null    object \n",
      " 10  class         234 non-null    object \n",
      " 11  is_automatic  234 non-null    object \n",
      "dtypes: float64(1), int64(4), object(7)\n",
      "memory usage: 23.8+ KB\n"
     ]
    }
   ],
   "source": [
    "df.info()"
   ]
  },
  {
   "cell_type": "code",
   "execution_count": 43,
   "id": "f1fde3c3",
   "metadata": {},
   "outputs": [
    {
     "data": {
      "text/plain": [
       "class\n",
       "suv           62\n",
       "compact       47\n",
       "midsize       41\n",
       "subcompact    35\n",
       "pickup        33\n",
       "minivan       11\n",
       "2seater        5\n",
       "Name: count, dtype: int64"
      ]
     },
     "execution_count": 43,
     "metadata": {},
     "output_type": "execute_result"
    }
   ],
   "source": [
    "df['class'].value_counts()"
   ]
  },
  {
   "cell_type": "code",
   "execution_count": 52,
   "id": "9ebb7760",
   "metadata": {},
   "outputs": [
    {
     "data": {
      "text/plain": [
       "is_automatic\n",
       "auto      157\n",
       "mannal     77\n",
       "Name: count, dtype: int64"
      ]
     },
     "execution_count": 52,
     "metadata": {},
     "output_type": "execute_result"
    }
   ],
   "source": [
    "df.is_automatic.value_counts()\n",
    "#f = front-wheel drive, r = rear wheel drive, 4 = 4wd \n"
   ]
  },
  {
   "cell_type": "markdown",
   "id": "d2320b5c",
   "metadata": {},
   "source": [
    "null - the class of vechiel does not affect if it is automatic \n",
    "alternative- the class does affect if it is automatic  "
   ]
  },
  {
   "cell_type": "code",
   "execution_count": 11,
   "id": "b687cad9",
   "metadata": {},
   "outputs": [],
   "source": [
    "alpha = .05"
   ]
  },
  {
   "cell_type": "code",
   "execution_count": 54,
   "id": "5a940e7a",
   "metadata": {},
   "outputs": [
    {
     "data": {
      "text/html": [
       "<div>\n",
       "<style scoped>\n",
       "    .dataframe tbody tr th:only-of-type {\n",
       "        vertical-align: middle;\n",
       "    }\n",
       "\n",
       "    .dataframe tbody tr th {\n",
       "        vertical-align: top;\n",
       "    }\n",
       "\n",
       "    .dataframe thead th {\n",
       "        text-align: right;\n",
       "    }\n",
       "</style>\n",
       "<table border=\"1\" class=\"dataframe\">\n",
       "  <thead>\n",
       "    <tr style=\"text-align: right;\">\n",
       "      <th>is_automatic</th>\n",
       "      <th>auto</th>\n",
       "      <th>mannal</th>\n",
       "    </tr>\n",
       "    <tr>\n",
       "      <th>class</th>\n",
       "      <th></th>\n",
       "      <th></th>\n",
       "    </tr>\n",
       "  </thead>\n",
       "  <tbody>\n",
       "    <tr>\n",
       "      <th>2seater</th>\n",
       "      <td>2</td>\n",
       "      <td>3</td>\n",
       "    </tr>\n",
       "    <tr>\n",
       "      <th>compact</th>\n",
       "      <td>24</td>\n",
       "      <td>23</td>\n",
       "    </tr>\n",
       "    <tr>\n",
       "      <th>midsize</th>\n",
       "      <td>29</td>\n",
       "      <td>12</td>\n",
       "    </tr>\n",
       "    <tr>\n",
       "      <th>minivan</th>\n",
       "      <td>11</td>\n",
       "      <td>0</td>\n",
       "    </tr>\n",
       "    <tr>\n",
       "      <th>pickup</th>\n",
       "      <td>20</td>\n",
       "      <td>13</td>\n",
       "    </tr>\n",
       "    <tr>\n",
       "      <th>subcompact</th>\n",
       "      <td>16</td>\n",
       "      <td>19</td>\n",
       "    </tr>\n",
       "    <tr>\n",
       "      <th>suv</th>\n",
       "      <td>55</td>\n",
       "      <td>7</td>\n",
       "    </tr>\n",
       "  </tbody>\n",
       "</table>\n",
       "</div>"
      ],
      "text/plain": [
       "is_automatic  auto  mannal\n",
       "class                     \n",
       "2seater          2       3\n",
       "compact         24      23\n",
       "midsize         29      12\n",
       "minivan         11       0\n",
       "pickup          20      13\n",
       "subcompact      16      19\n",
       "suv             55       7"
      ]
     },
     "execution_count": 54,
     "metadata": {},
     "output_type": "execute_result"
    }
   ],
   "source": [
    "observed = pd.crosstab(df['class'],df.is_automatic)\n",
    "observed"
   ]
  },
  {
   "cell_type": "code",
   "execution_count": 55,
   "id": "c17e1b20",
   "metadata": {},
   "outputs": [
    {
     "data": {
      "text/plain": [
       "4"
      ]
     },
     "execution_count": 55,
     "metadata": {},
     "output_type": "execute_result"
    }
   ],
   "source": [
    "len(stats.chi2_contingency(observed))"
   ]
  },
  {
   "cell_type": "code",
   "execution_count": 56,
   "id": "4cb19607",
   "metadata": {},
   "outputs": [],
   "source": [
    "chi2, p, dof, expected = stats.chi2_contingency(observed)"
   ]
  },
  {
   "cell_type": "code",
   "execution_count": 57,
   "id": "c8be7a10",
   "metadata": {},
   "outputs": [
    {
     "name": "stdout",
     "output_type": "stream",
     "text": [
      "Observed\n",
      "[[ 2  3]\n",
      " [24 23]\n",
      " [29 12]\n",
      " [11  0]\n",
      " [20 13]\n",
      " [16 19]\n",
      " [55  7]]\n",
      "\n",
      "Expected\n",
      "[[ 3  1]\n",
      " [31 15]\n",
      " [27 13]\n",
      " [ 7  3]\n",
      " [22 10]\n",
      " [23 11]\n",
      " [41 20]]\n",
      "\n",
      "----\n",
      "chi^2 = 33.7700\n",
      "p     = 0.0000\n"
     ]
    }
   ],
   "source": [
    "print('Observed')\n",
    "print(observed.values)\n",
    "print('\\nExpected')\n",
    "print(expected.astype(int))\n",
    "print('\\n----')\n",
    "print(f'chi^2 = {chi2:.4f}')\n",
    "print(f'p     = {p:.4f}')"
   ]
  },
  {
   "cell_type": "code",
   "execution_count": 60,
   "id": "1008579b",
   "metadata": {},
   "outputs": [
    {
     "name": "stdout",
     "output_type": "stream",
     "text": [
      "reject the null hypothesis\n"
     ]
    }
   ],
   "source": [
    "if p < alpha:\n",
    "    print('reject the null hypothesis')\n",
    "else:\n",
    "    print('fail to reject the null hypothesis')"
   ]
  },
  {
   "cell_type": "code",
   "execution_count": 66,
   "id": "3c9ffa82",
   "metadata": {},
   "outputs": [],
   "source": [
    "from eny import user, password, host"
   ]
  },
  {
   "cell_type": "code",
   "execution_count": 67,
   "id": "969c91f3",
   "metadata": {},
   "outputs": [],
   "source": [
    "url = f'mysql+pymysql://{user}:{password}@{host}/employees'"
   ]
  },
  {
   "cell_type": "code",
   "execution_count": 85,
   "id": "bc86dc35",
   "metadata": {},
   "outputs": [],
   "source": [
    "query = '''\n",
    "  select gender,dept_name,from_date,to_date \n",
    " from departments\n",
    " join dept_emp \n",
    "\tusing (dept_no)\n",
    " join employees\n",
    "\tusing (emp_no)\n",
    " where to_date > now()\n",
    " and dept_name in ('Sales','Marketing')\n",
    " order by to_date\n",
    " '''"
   ]
  },
  {
   "cell_type": "code",
   "execution_count": 86,
   "id": "919d1cb6",
   "metadata": {},
   "outputs": [
    {
     "data": {
      "text/html": [
       "<div>\n",
       "<style scoped>\n",
       "    .dataframe tbody tr th:only-of-type {\n",
       "        vertical-align: middle;\n",
       "    }\n",
       "\n",
       "    .dataframe tbody tr th {\n",
       "        vertical-align: top;\n",
       "    }\n",
       "\n",
       "    .dataframe thead th {\n",
       "        text-align: right;\n",
       "    }\n",
       "</style>\n",
       "<table border=\"1\" class=\"dataframe\">\n",
       "  <thead>\n",
       "    <tr style=\"text-align: right;\">\n",
       "      <th></th>\n",
       "      <th>gender</th>\n",
       "      <th>dept_name</th>\n",
       "      <th>from_date</th>\n",
       "      <th>to_date</th>\n",
       "    </tr>\n",
       "  </thead>\n",
       "  <tbody>\n",
       "    <tr>\n",
       "      <th>0</th>\n",
       "      <td>F</td>\n",
       "      <td>Sales</td>\n",
       "      <td>1986-04-01</td>\n",
       "      <td>9999-01-01</td>\n",
       "    </tr>\n",
       "    <tr>\n",
       "      <th>1</th>\n",
       "      <td>F</td>\n",
       "      <td>Sales</td>\n",
       "      <td>1996-03-25</td>\n",
       "      <td>9999-01-01</td>\n",
       "    </tr>\n",
       "    <tr>\n",
       "      <th>2</th>\n",
       "      <td>M</td>\n",
       "      <td>Sales</td>\n",
       "      <td>1997-12-01</td>\n",
       "      <td>9999-01-01</td>\n",
       "    </tr>\n",
       "    <tr>\n",
       "      <th>3</th>\n",
       "      <td>F</td>\n",
       "      <td>Sales</td>\n",
       "      <td>1998-10-16</td>\n",
       "      <td>9999-01-01</td>\n",
       "    </tr>\n",
       "    <tr>\n",
       "      <th>4</th>\n",
       "      <td>F</td>\n",
       "      <td>Sales</td>\n",
       "      <td>1986-04-06</td>\n",
       "      <td>9999-01-01</td>\n",
       "    </tr>\n",
       "    <tr>\n",
       "      <th>...</th>\n",
       "      <td>...</td>\n",
       "      <td>...</td>\n",
       "      <td>...</td>\n",
       "      <td>...</td>\n",
       "    </tr>\n",
       "    <tr>\n",
       "      <th>52538</th>\n",
       "      <td>M</td>\n",
       "      <td>Sales</td>\n",
       "      <td>1999-03-21</td>\n",
       "      <td>9999-01-01</td>\n",
       "    </tr>\n",
       "    <tr>\n",
       "      <th>52539</th>\n",
       "      <td>M</td>\n",
       "      <td>Sales</td>\n",
       "      <td>1988-03-12</td>\n",
       "      <td>9999-01-01</td>\n",
       "    </tr>\n",
       "    <tr>\n",
       "      <th>52540</th>\n",
       "      <td>F</td>\n",
       "      <td>Sales</td>\n",
       "      <td>1988-09-15</td>\n",
       "      <td>9999-01-01</td>\n",
       "    </tr>\n",
       "    <tr>\n",
       "      <th>52541</th>\n",
       "      <td>M</td>\n",
       "      <td>Sales</td>\n",
       "      <td>1988-08-27</td>\n",
       "      <td>9999-01-01</td>\n",
       "    </tr>\n",
       "    <tr>\n",
       "      <th>52542</th>\n",
       "      <td>M</td>\n",
       "      <td>Sales</td>\n",
       "      <td>1999-11-28</td>\n",
       "      <td>9999-01-01</td>\n",
       "    </tr>\n",
       "  </tbody>\n",
       "</table>\n",
       "<p>52543 rows × 4 columns</p>\n",
       "</div>"
      ],
      "text/plain": [
       "      gender dept_name   from_date     to_date\n",
       "0          F     Sales  1986-04-01  9999-01-01\n",
       "1          F     Sales  1996-03-25  9999-01-01\n",
       "2          M     Sales  1997-12-01  9999-01-01\n",
       "3          F     Sales  1998-10-16  9999-01-01\n",
       "4          F     Sales  1986-04-06  9999-01-01\n",
       "...      ...       ...         ...         ...\n",
       "52538      M     Sales  1999-03-21  9999-01-01\n",
       "52539      M     Sales  1988-03-12  9999-01-01\n",
       "52540      F     Sales  1988-09-15  9999-01-01\n",
       "52541      M     Sales  1988-08-27  9999-01-01\n",
       "52542      M     Sales  1999-11-28  9999-01-01\n",
       "\n",
       "[52543 rows x 4 columns]"
      ]
     },
     "execution_count": 86,
     "metadata": {},
     "output_type": "execute_result"
    }
   ],
   "source": [
    "df = pd.read_sql(query, url)\n",
    "df"
   ]
  },
  {
   "cell_type": "code",
   "execution_count": null,
   "id": "d28d7696",
   "metadata": {},
   "outputs": [],
   "source": [
    "null-\n",
    "alternative-"
   ]
  },
  {
   "cell_type": "code",
   "execution_count": 87,
   "id": "4b9b1dd4",
   "metadata": {
    "scrolled": true
   },
   "outputs": [
    {
     "data": {
      "text/plain": [
       "gender\n",
       "M    31680\n",
       "F    20863\n",
       "Name: count, dtype: int64"
      ]
     },
     "execution_count": 87,
     "metadata": {},
     "output_type": "execute_result"
    }
   ],
   "source": [
    "df.gender.value_counts()"
   ]
  },
  {
   "cell_type": "code",
   "execution_count": 88,
   "id": "a442711c",
   "metadata": {},
   "outputs": [
    {
     "data": {
      "text/plain": [
       "dept_name\n",
       "Sales        37701\n",
       "Marketing    14842\n",
       "Name: count, dtype: int64"
      ]
     },
     "execution_count": 88,
     "metadata": {},
     "output_type": "execute_result"
    }
   ],
   "source": [
    "df.dept_name.value_counts()"
   ]
  },
  {
   "cell_type": "code",
   "execution_count": 90,
   "id": "8ee88b98",
   "metadata": {},
   "outputs": [
    {
     "data": {
      "text/html": [
       "<div>\n",
       "<style scoped>\n",
       "    .dataframe tbody tr th:only-of-type {\n",
       "        vertical-align: middle;\n",
       "    }\n",
       "\n",
       "    .dataframe tbody tr th {\n",
       "        vertical-align: top;\n",
       "    }\n",
       "\n",
       "    .dataframe thead th {\n",
       "        text-align: right;\n",
       "    }\n",
       "</style>\n",
       "<table border=\"1\" class=\"dataframe\">\n",
       "  <thead>\n",
       "    <tr style=\"text-align: right;\">\n",
       "      <th>dept_name</th>\n",
       "      <th>Marketing</th>\n",
       "      <th>Sales</th>\n",
       "    </tr>\n",
       "    <tr>\n",
       "      <th>gender</th>\n",
       "      <th></th>\n",
       "      <th></th>\n",
       "    </tr>\n",
       "  </thead>\n",
       "  <tbody>\n",
       "    <tr>\n",
       "      <th>F</th>\n",
       "      <td>5864</td>\n",
       "      <td>14999</td>\n",
       "    </tr>\n",
       "    <tr>\n",
       "      <th>M</th>\n",
       "      <td>8978</td>\n",
       "      <td>22702</td>\n",
       "    </tr>\n",
       "  </tbody>\n",
       "</table>\n",
       "</div>"
      ],
      "text/plain": [
       "dept_name  Marketing  Sales\n",
       "gender                     \n",
       "F               5864  14999\n",
       "M               8978  22702"
      ]
     },
     "execution_count": 90,
     "metadata": {},
     "output_type": "execute_result"
    }
   ],
   "source": [
    "observed = pd.crosstab(df.gender, df.dept_name)\n",
    "observed"
   ]
  },
  {
   "cell_type": "code",
   "execution_count": null,
   "id": "6cdd2286",
   "metadata": {},
   "outputs": [],
   "source": []
  },
  {
   "cell_type": "code",
   "execution_count": null,
   "id": "d65eea7c",
   "metadata": {},
   "outputs": [],
   "source": []
  },
  {
   "cell_type": "markdown",
   "id": "c5dfe6ea",
   "metadata": {},
   "source": [
    "Part 3"
   ]
  },
  {
   "cell_type": "code",
   "execution_count": 6,
   "id": "63ecd796",
   "metadata": {},
   "outputs": [],
   "source": [
    "import matplotlib.pyplot as plt\n",
    "import seaborn as sns"
   ]
  },
  {
   "cell_type": "markdown",
   "id": "a09bf4b2",
   "metadata": {},
   "source": [
    "Answer with the type of stats test you would use (assume normal distribution):\n",
    "\n",
    "Is there a relationship between the length of your arm and the length of your foot?"
   ]
  },
  {
   "cell_type": "code",
   "execution_count": null,
   "id": "7b68f0c3",
   "metadata": {},
   "outputs": [],
   "source": [
    "correlation"
   ]
  },
  {
   "cell_type": "markdown",
   "id": "0209a1b9",
   "metadata": {},
   "source": [
    "Does smoking affect when or not someone has lung cancer?\n"
   ]
  },
  {
   "cell_type": "code",
   "execution_count": null,
   "id": "7fc96b1c",
   "metadata": {},
   "outputs": [],
   "source": [
    "chi2"
   ]
  },
  {
   "cell_type": "markdown",
   "id": "f5df8eca",
   "metadata": {},
   "source": [
    "Is gender independent of a person’s blood type?\n"
   ]
  },
  {
   "cell_type": "code",
   "execution_count": null,
   "id": "b843f0c8",
   "metadata": {},
   "outputs": [],
   "source": [
    "chi2"
   ]
  },
  {
   "cell_type": "markdown",
   "id": "a0cd19db",
   "metadata": {},
   "source": [
    "Does whether or not a person has a cat or dog affect whether they live in an apartment?"
   ]
  },
  {
   "cell_type": "code",
   "execution_count": null,
   "id": "3e5fb575",
   "metadata": {},
   "outputs": [],
   "source": [
    "chi2"
   ]
  },
  {
   "cell_type": "markdown",
   "id": "c62e861a",
   "metadata": {},
   "source": [
    "Does the length of time of the lecture correlate with a student's grade?"
   ]
  },
  {
   "cell_type": "code",
   "execution_count": null,
   "id": "faa9be7a",
   "metadata": {},
   "outputs": [],
   "source": [
    "correlation"
   ]
  },
  {
   "cell_type": "markdown",
   "id": "1bbfa578",
   "metadata": {},
   "source": [
    "Use the telco_churn data.\n",
    "\n",
    "Does tenure correlate with monthly charges? - No it does not beacuse they have have other serivces that make more costly \n",
    "\n",
    "Total charges?\n",
    "\n",
    "What happens if you control for phone and internet service?"
   ]
  },
  {
   "cell_type": "code",
   "execution_count": 139,
   "id": "75ad6162",
   "metadata": {},
   "outputs": [],
   "source": [
    "url = f'mysql+pymysql://{user}:{password}@{host}/telco_churn'"
   ]
  },
  {
   "cell_type": "code",
   "execution_count": 140,
   "id": "46c11960",
   "metadata": {},
   "outputs": [],
   "source": [
    "query = '''\n",
    "select * from customers\n",
    "'''"
   ]
  },
  {
   "cell_type": "code",
   "execution_count": 141,
   "id": "6309dd93",
   "metadata": {},
   "outputs": [
    {
     "data": {
      "text/html": [
       "<div>\n",
       "<style scoped>\n",
       "    .dataframe tbody tr th:only-of-type {\n",
       "        vertical-align: middle;\n",
       "    }\n",
       "\n",
       "    .dataframe tbody tr th {\n",
       "        vertical-align: top;\n",
       "    }\n",
       "\n",
       "    .dataframe thead th {\n",
       "        text-align: right;\n",
       "    }\n",
       "</style>\n",
       "<table border=\"1\" class=\"dataframe\">\n",
       "  <thead>\n",
       "    <tr style=\"text-align: right;\">\n",
       "      <th></th>\n",
       "      <th>customer_id</th>\n",
       "      <th>gender</th>\n",
       "      <th>senior_citizen</th>\n",
       "      <th>partner</th>\n",
       "      <th>dependents</th>\n",
       "      <th>tenure</th>\n",
       "      <th>phone_service</th>\n",
       "      <th>multiple_lines</th>\n",
       "      <th>internet_service_type_id</th>\n",
       "      <th>online_security</th>\n",
       "      <th>...</th>\n",
       "      <th>device_protection</th>\n",
       "      <th>tech_support</th>\n",
       "      <th>streaming_tv</th>\n",
       "      <th>streaming_movies</th>\n",
       "      <th>contract_type_id</th>\n",
       "      <th>paperless_billing</th>\n",
       "      <th>payment_type_id</th>\n",
       "      <th>monthly_charges</th>\n",
       "      <th>total_charges</th>\n",
       "      <th>churn</th>\n",
       "    </tr>\n",
       "  </thead>\n",
       "  <tbody>\n",
       "    <tr>\n",
       "      <th>0</th>\n",
       "      <td>0002-ORFBO</td>\n",
       "      <td>Female</td>\n",
       "      <td>0</td>\n",
       "      <td>Yes</td>\n",
       "      <td>Yes</td>\n",
       "      <td>9</td>\n",
       "      <td>Yes</td>\n",
       "      <td>No</td>\n",
       "      <td>1</td>\n",
       "      <td>No</td>\n",
       "      <td>...</td>\n",
       "      <td>No</td>\n",
       "      <td>Yes</td>\n",
       "      <td>Yes</td>\n",
       "      <td>No</td>\n",
       "      <td>2</td>\n",
       "      <td>Yes</td>\n",
       "      <td>2</td>\n",
       "      <td>65.60</td>\n",
       "      <td>593.3</td>\n",
       "      <td>No</td>\n",
       "    </tr>\n",
       "    <tr>\n",
       "      <th>1</th>\n",
       "      <td>0003-MKNFE</td>\n",
       "      <td>Male</td>\n",
       "      <td>0</td>\n",
       "      <td>No</td>\n",
       "      <td>No</td>\n",
       "      <td>9</td>\n",
       "      <td>Yes</td>\n",
       "      <td>Yes</td>\n",
       "      <td>1</td>\n",
       "      <td>No</td>\n",
       "      <td>...</td>\n",
       "      <td>No</td>\n",
       "      <td>No</td>\n",
       "      <td>No</td>\n",
       "      <td>Yes</td>\n",
       "      <td>1</td>\n",
       "      <td>No</td>\n",
       "      <td>2</td>\n",
       "      <td>59.90</td>\n",
       "      <td>542.4</td>\n",
       "      <td>No</td>\n",
       "    </tr>\n",
       "    <tr>\n",
       "      <th>2</th>\n",
       "      <td>0004-TLHLJ</td>\n",
       "      <td>Male</td>\n",
       "      <td>0</td>\n",
       "      <td>No</td>\n",
       "      <td>No</td>\n",
       "      <td>4</td>\n",
       "      <td>Yes</td>\n",
       "      <td>No</td>\n",
       "      <td>2</td>\n",
       "      <td>No</td>\n",
       "      <td>...</td>\n",
       "      <td>Yes</td>\n",
       "      <td>No</td>\n",
       "      <td>No</td>\n",
       "      <td>No</td>\n",
       "      <td>1</td>\n",
       "      <td>Yes</td>\n",
       "      <td>1</td>\n",
       "      <td>73.90</td>\n",
       "      <td>280.85</td>\n",
       "      <td>Yes</td>\n",
       "    </tr>\n",
       "    <tr>\n",
       "      <th>3</th>\n",
       "      <td>0011-IGKFF</td>\n",
       "      <td>Male</td>\n",
       "      <td>1</td>\n",
       "      <td>Yes</td>\n",
       "      <td>No</td>\n",
       "      <td>13</td>\n",
       "      <td>Yes</td>\n",
       "      <td>No</td>\n",
       "      <td>2</td>\n",
       "      <td>No</td>\n",
       "      <td>...</td>\n",
       "      <td>Yes</td>\n",
       "      <td>No</td>\n",
       "      <td>Yes</td>\n",
       "      <td>Yes</td>\n",
       "      <td>1</td>\n",
       "      <td>Yes</td>\n",
       "      <td>1</td>\n",
       "      <td>98.00</td>\n",
       "      <td>1237.85</td>\n",
       "      <td>Yes</td>\n",
       "    </tr>\n",
       "    <tr>\n",
       "      <th>4</th>\n",
       "      <td>0013-EXCHZ</td>\n",
       "      <td>Female</td>\n",
       "      <td>1</td>\n",
       "      <td>Yes</td>\n",
       "      <td>No</td>\n",
       "      <td>3</td>\n",
       "      <td>Yes</td>\n",
       "      <td>No</td>\n",
       "      <td>2</td>\n",
       "      <td>No</td>\n",
       "      <td>...</td>\n",
       "      <td>No</td>\n",
       "      <td>Yes</td>\n",
       "      <td>Yes</td>\n",
       "      <td>No</td>\n",
       "      <td>1</td>\n",
       "      <td>Yes</td>\n",
       "      <td>2</td>\n",
       "      <td>83.90</td>\n",
       "      <td>267.4</td>\n",
       "      <td>Yes</td>\n",
       "    </tr>\n",
       "    <tr>\n",
       "      <th>...</th>\n",
       "      <td>...</td>\n",
       "      <td>...</td>\n",
       "      <td>...</td>\n",
       "      <td>...</td>\n",
       "      <td>...</td>\n",
       "      <td>...</td>\n",
       "      <td>...</td>\n",
       "      <td>...</td>\n",
       "      <td>...</td>\n",
       "      <td>...</td>\n",
       "      <td>...</td>\n",
       "      <td>...</td>\n",
       "      <td>...</td>\n",
       "      <td>...</td>\n",
       "      <td>...</td>\n",
       "      <td>...</td>\n",
       "      <td>...</td>\n",
       "      <td>...</td>\n",
       "      <td>...</td>\n",
       "      <td>...</td>\n",
       "      <td>...</td>\n",
       "    </tr>\n",
       "    <tr>\n",
       "      <th>7038</th>\n",
       "      <td>9987-LUTYD</td>\n",
       "      <td>Female</td>\n",
       "      <td>0</td>\n",
       "      <td>No</td>\n",
       "      <td>No</td>\n",
       "      <td>13</td>\n",
       "      <td>Yes</td>\n",
       "      <td>No</td>\n",
       "      <td>1</td>\n",
       "      <td>Yes</td>\n",
       "      <td>...</td>\n",
       "      <td>No</td>\n",
       "      <td>Yes</td>\n",
       "      <td>No</td>\n",
       "      <td>No</td>\n",
       "      <td>2</td>\n",
       "      <td>No</td>\n",
       "      <td>2</td>\n",
       "      <td>55.15</td>\n",
       "      <td>742.9</td>\n",
       "      <td>No</td>\n",
       "    </tr>\n",
       "    <tr>\n",
       "      <th>7039</th>\n",
       "      <td>9992-RRAMN</td>\n",
       "      <td>Male</td>\n",
       "      <td>0</td>\n",
       "      <td>Yes</td>\n",
       "      <td>No</td>\n",
       "      <td>22</td>\n",
       "      <td>Yes</td>\n",
       "      <td>Yes</td>\n",
       "      <td>2</td>\n",
       "      <td>No</td>\n",
       "      <td>...</td>\n",
       "      <td>No</td>\n",
       "      <td>No</td>\n",
       "      <td>No</td>\n",
       "      <td>Yes</td>\n",
       "      <td>1</td>\n",
       "      <td>Yes</td>\n",
       "      <td>1</td>\n",
       "      <td>85.10</td>\n",
       "      <td>1873.7</td>\n",
       "      <td>Yes</td>\n",
       "    </tr>\n",
       "    <tr>\n",
       "      <th>7040</th>\n",
       "      <td>9992-UJOEL</td>\n",
       "      <td>Male</td>\n",
       "      <td>0</td>\n",
       "      <td>No</td>\n",
       "      <td>No</td>\n",
       "      <td>2</td>\n",
       "      <td>Yes</td>\n",
       "      <td>No</td>\n",
       "      <td>1</td>\n",
       "      <td>No</td>\n",
       "      <td>...</td>\n",
       "      <td>No</td>\n",
       "      <td>No</td>\n",
       "      <td>No</td>\n",
       "      <td>No</td>\n",
       "      <td>1</td>\n",
       "      <td>Yes</td>\n",
       "      <td>2</td>\n",
       "      <td>50.30</td>\n",
       "      <td>92.75</td>\n",
       "      <td>No</td>\n",
       "    </tr>\n",
       "    <tr>\n",
       "      <th>7041</th>\n",
       "      <td>9993-LHIEB</td>\n",
       "      <td>Male</td>\n",
       "      <td>0</td>\n",
       "      <td>Yes</td>\n",
       "      <td>Yes</td>\n",
       "      <td>67</td>\n",
       "      <td>Yes</td>\n",
       "      <td>No</td>\n",
       "      <td>1</td>\n",
       "      <td>Yes</td>\n",
       "      <td>...</td>\n",
       "      <td>Yes</td>\n",
       "      <td>Yes</td>\n",
       "      <td>No</td>\n",
       "      <td>Yes</td>\n",
       "      <td>3</td>\n",
       "      <td>No</td>\n",
       "      <td>2</td>\n",
       "      <td>67.85</td>\n",
       "      <td>4627.65</td>\n",
       "      <td>No</td>\n",
       "    </tr>\n",
       "    <tr>\n",
       "      <th>7042</th>\n",
       "      <td>9995-HOTOH</td>\n",
       "      <td>Male</td>\n",
       "      <td>0</td>\n",
       "      <td>Yes</td>\n",
       "      <td>Yes</td>\n",
       "      <td>63</td>\n",
       "      <td>No</td>\n",
       "      <td>No phone service</td>\n",
       "      <td>1</td>\n",
       "      <td>Yes</td>\n",
       "      <td>...</td>\n",
       "      <td>Yes</td>\n",
       "      <td>No</td>\n",
       "      <td>Yes</td>\n",
       "      <td>Yes</td>\n",
       "      <td>3</td>\n",
       "      <td>No</td>\n",
       "      <td>1</td>\n",
       "      <td>59.00</td>\n",
       "      <td>3707.6</td>\n",
       "      <td>No</td>\n",
       "    </tr>\n",
       "  </tbody>\n",
       "</table>\n",
       "<p>7043 rows × 21 columns</p>\n",
       "</div>"
      ],
      "text/plain": [
       "     customer_id  gender  senior_citizen partner dependents  tenure  \\\n",
       "0     0002-ORFBO  Female               0     Yes        Yes       9   \n",
       "1     0003-MKNFE    Male               0      No         No       9   \n",
       "2     0004-TLHLJ    Male               0      No         No       4   \n",
       "3     0011-IGKFF    Male               1     Yes         No      13   \n",
       "4     0013-EXCHZ  Female               1     Yes         No       3   \n",
       "...          ...     ...             ...     ...        ...     ...   \n",
       "7038  9987-LUTYD  Female               0      No         No      13   \n",
       "7039  9992-RRAMN    Male               0     Yes         No      22   \n",
       "7040  9992-UJOEL    Male               0      No         No       2   \n",
       "7041  9993-LHIEB    Male               0     Yes        Yes      67   \n",
       "7042  9995-HOTOH    Male               0     Yes        Yes      63   \n",
       "\n",
       "     phone_service    multiple_lines  internet_service_type_id  \\\n",
       "0              Yes                No                         1   \n",
       "1              Yes               Yes                         1   \n",
       "2              Yes                No                         2   \n",
       "3              Yes                No                         2   \n",
       "4              Yes                No                         2   \n",
       "...            ...               ...                       ...   \n",
       "7038           Yes                No                         1   \n",
       "7039           Yes               Yes                         2   \n",
       "7040           Yes                No                         1   \n",
       "7041           Yes                No                         1   \n",
       "7042            No  No phone service                         1   \n",
       "\n",
       "     online_security  ... device_protection tech_support streaming_tv  \\\n",
       "0                 No  ...                No          Yes          Yes   \n",
       "1                 No  ...                No           No           No   \n",
       "2                 No  ...               Yes           No           No   \n",
       "3                 No  ...               Yes           No          Yes   \n",
       "4                 No  ...                No          Yes          Yes   \n",
       "...              ...  ...               ...          ...          ...   \n",
       "7038             Yes  ...                No          Yes           No   \n",
       "7039              No  ...                No           No           No   \n",
       "7040              No  ...                No           No           No   \n",
       "7041             Yes  ...               Yes          Yes           No   \n",
       "7042             Yes  ...               Yes           No          Yes   \n",
       "\n",
       "     streaming_movies contract_type_id  paperless_billing payment_type_id  \\\n",
       "0                  No                2                Yes               2   \n",
       "1                 Yes                1                 No               2   \n",
       "2                  No                1                Yes               1   \n",
       "3                 Yes                1                Yes               1   \n",
       "4                  No                1                Yes               2   \n",
       "...               ...              ...                ...             ...   \n",
       "7038               No                2                 No               2   \n",
       "7039              Yes                1                Yes               1   \n",
       "7040               No                1                Yes               2   \n",
       "7041              Yes                3                 No               2   \n",
       "7042              Yes                3                 No               1   \n",
       "\n",
       "      monthly_charges  total_charges churn  \n",
       "0               65.60          593.3    No  \n",
       "1               59.90          542.4    No  \n",
       "2               73.90         280.85   Yes  \n",
       "3               98.00        1237.85   Yes  \n",
       "4               83.90          267.4   Yes  \n",
       "...               ...            ...   ...  \n",
       "7038            55.15          742.9    No  \n",
       "7039            85.10         1873.7   Yes  \n",
       "7040            50.30          92.75    No  \n",
       "7041            67.85        4627.65    No  \n",
       "7042            59.00         3707.6    No  \n",
       "\n",
       "[7043 rows x 21 columns]"
      ]
     },
     "execution_count": 141,
     "metadata": {},
     "output_type": "execute_result"
    }
   ],
   "source": [
    "df = pd.read_sql(query, url)\n",
    "df"
   ]
  },
  {
   "cell_type": "code",
   "execution_count": 142,
   "id": "404968e4",
   "metadata": {},
   "outputs": [],
   "source": [
    "# df.info()"
   ]
  },
  {
   "cell_type": "markdown",
   "id": "35bd90ee",
   "metadata": {},
   "source": [
    "null - there is not a linear relationship between tenure and total_charges\n",
    "alternative- there is a linear relationship between tenure and total_charges"
   ]
  },
  {
   "cell_type": "code",
   "execution_count": 143,
   "id": "37e2b0cd",
   "metadata": {},
   "outputs": [
    {
     "data": {
      "text/plain": [
       "total_charges\n",
       "           11\n",
       "20.2       11\n",
       "19.75       9\n",
       "19.9        8\n",
       "20.05       8\n",
       "           ..\n",
       "2387.75     1\n",
       "6302.8      1\n",
       "2058.5      1\n",
       "829.55      1\n",
       "3707.6      1\n",
       "Name: count, Length: 6531, dtype: int64"
      ]
     },
     "execution_count": 143,
     "metadata": {},
     "output_type": "execute_result"
    }
   ],
   "source": [
    "df.total_charges.value_counts()"
   ]
  },
  {
   "cell_type": "code",
   "execution_count": 114,
   "id": "35ac2672",
   "metadata": {
    "scrolled": true
   },
   "outputs": [
    {
     "data": {
      "text/plain": [
       "tenure\n",
       "1     613\n",
       "72    362\n",
       "2     238\n",
       "3     200\n",
       "4     176\n",
       "Name: count, dtype: int64"
      ]
     },
     "execution_count": 114,
     "metadata": {},
     "output_type": "execute_result"
    }
   ],
   "source": [
    "df.tenure.value_counts().head()"
   ]
  },
  {
   "cell_type": "code",
   "execution_count": null,
   "id": "aab175f4",
   "metadata": {},
   "outputs": [],
   "source": []
  },
  {
   "cell_type": "code",
   "execution_count": 144,
   "id": "ed5e1ccb",
   "metadata": {},
   "outputs": [
    {
     "data": {
      "image/png": "[encoded data removed]",
      "text/plain": [
       "<Figure size 640x480 with 1 Axes>"
      ]
     },
     "metadata": {},
     "output_type": "display_data"
    }
   ],
   "source": [
    "plt.scatter(df.tenure,df.total_charges)\n",
    "plt.title('does tenure affect the monthly_cost')\n",
    "plt.xlabel('tenure')\n",
    "plt.ylabel('monthly_charges')\n",
    "plt.show()"
   ]
  },
  {
   "cell_type": "code",
   "execution_count": null,
   "id": "a077e51a",
   "metadata": {},
   "outputs": [],
   "source": []
  },
  {
   "cell_type": "code",
   "execution_count": null,
   "id": "baf5777e",
   "metadata": {},
   "outputs": [],
   "source": []
  },
  {
   "cell_type": "code",
   "execution_count": null,
   "id": "86962d8b",
   "metadata": {},
   "outputs": [],
   "source": []
  },
  {
   "cell_type": "code",
   "execution_count": null,
   "id": "69787c5b",
   "metadata": {},
   "outputs": [],
   "source": []
  },
  {
   "cell_type": "markdown",
   "id": "e8711db4",
   "metadata": {},
   "source": [
    "Use the employees database.\n",
    "Is there a relationship between how long an employee has been with the company and their salary?"
   ]
  },
  {
   "cell_type": "code",
   "execution_count": 150,
   "id": "10e6460f",
   "metadata": {},
   "outputs": [],
   "source": [
    "url = f'mysql+pymysql://{user}:{password}@{host}/employees'"
   ]
  },
  {
   "cell_type": "code",
   "execution_count": 151,
   "id": "45046d83",
   "metadata": {},
   "outputs": [],
   "source": [
    "query = '''\n",
    "select *\n",
    " from salaries\n",
    " join employees \n",
    "\tusing (emp_no)\n",
    " where to_date > now()\n",
    "  order by to_date '''"
   ]
  },
  {
   "cell_type": "code",
   "execution_count": 152,
   "id": "4a6433d2",
   "metadata": {},
   "outputs": [
    {
     "data": {
      "text/html": [
       "<div>\n",
       "<style scoped>\n",
       "    .dataframe tbody tr th:only-of-type {\n",
       "        vertical-align: middle;\n",
       "    }\n",
       "\n",
       "    .dataframe tbody tr th {\n",
       "        vertical-align: top;\n",
       "    }\n",
       "\n",
       "    .dataframe thead th {\n",
       "        text-align: right;\n",
       "    }\n",
       "</style>\n",
       "<table border=\"1\" class=\"dataframe\">\n",
       "  <thead>\n",
       "    <tr style=\"text-align: right;\">\n",
       "      <th></th>\n",
       "      <th>emp_no</th>\n",
       "      <th>salary</th>\n",
       "      <th>from_date</th>\n",
       "      <th>to_date</th>\n",
       "      <th>birth_date</th>\n",
       "      <th>first_name</th>\n",
       "      <th>last_name</th>\n",
       "      <th>gender</th>\n",
       "      <th>hire_date</th>\n",
       "    </tr>\n",
       "  </thead>\n",
       "  <tbody>\n",
       "    <tr>\n",
       "      <th>0</th>\n",
       "      <td>493505</td>\n",
       "      <td>47709</td>\n",
       "      <td>2002-02-21</td>\n",
       "      <td>9999-01-01</td>\n",
       "      <td>1952-05-15</td>\n",
       "      <td>Sushant</td>\n",
       "      <td>Basawa</td>\n",
       "      <td>F</td>\n",
       "      <td>1985-02-28</td>\n",
       "    </tr>\n",
       "    <tr>\n",
       "      <th>1</th>\n",
       "      <td>493507</td>\n",
       "      <td>92220</td>\n",
       "      <td>2001-08-16</td>\n",
       "      <td>9999-01-01</td>\n",
       "      <td>1954-05-26</td>\n",
       "      <td>Gay</td>\n",
       "      <td>Prenel</td>\n",
       "      <td>F</td>\n",
       "      <td>1993-08-18</td>\n",
       "    </tr>\n",
       "    <tr>\n",
       "      <th>2</th>\n",
       "      <td>493508</td>\n",
       "      <td>44829</td>\n",
       "      <td>2001-10-14</td>\n",
       "      <td>9999-01-01</td>\n",
       "      <td>1961-11-03</td>\n",
       "      <td>Sugwoo</td>\n",
       "      <td>Validov</td>\n",
       "      <td>F</td>\n",
       "      <td>1986-04-16</td>\n",
       "    </tr>\n",
       "    <tr>\n",
       "      <th>3</th>\n",
       "      <td>493509</td>\n",
       "      <td>77927</td>\n",
       "      <td>2002-04-22</td>\n",
       "      <td>9999-01-01</td>\n",
       "      <td>1955-01-12</td>\n",
       "      <td>Zito</td>\n",
       "      <td>Rande</td>\n",
       "      <td>F</td>\n",
       "      <td>1985-09-19</td>\n",
       "    </tr>\n",
       "    <tr>\n",
       "      <th>4</th>\n",
       "      <td>493510</td>\n",
       "      <td>55612</td>\n",
       "      <td>2001-10-12</td>\n",
       "      <td>9999-01-01</td>\n",
       "      <td>1956-05-03</td>\n",
       "      <td>Theirry</td>\n",
       "      <td>Giarratana</td>\n",
       "      <td>M</td>\n",
       "      <td>1991-09-30</td>\n",
       "    </tr>\n",
       "    <tr>\n",
       "      <th>...</th>\n",
       "      <td>...</td>\n",
       "      <td>...</td>\n",
       "      <td>...</td>\n",
       "      <td>...</td>\n",
       "      <td>...</td>\n",
       "      <td>...</td>\n",
       "      <td>...</td>\n",
       "      <td>...</td>\n",
       "      <td>...</td>\n",
       "    </tr>\n",
       "    <tr>\n",
       "      <th>240119</th>\n",
       "      <td>295615</td>\n",
       "      <td>54545</td>\n",
       "      <td>2001-09-04</td>\n",
       "      <td>9999-01-01</td>\n",
       "      <td>1953-12-21</td>\n",
       "      <td>Mang</td>\n",
       "      <td>Khamsi</td>\n",
       "      <td>F</td>\n",
       "      <td>1988-09-03</td>\n",
       "    </tr>\n",
       "    <tr>\n",
       "      <th>240120</th>\n",
       "      <td>295616</td>\n",
       "      <td>70917</td>\n",
       "      <td>2001-09-01</td>\n",
       "      <td>9999-01-01</td>\n",
       "      <td>1962-03-24</td>\n",
       "      <td>Florina</td>\n",
       "      <td>Babu</td>\n",
       "      <td>M</td>\n",
       "      <td>1986-09-05</td>\n",
       "    </tr>\n",
       "    <tr>\n",
       "      <th>240121</th>\n",
       "      <td>295618</td>\n",
       "      <td>80379</td>\n",
       "      <td>2002-05-24</td>\n",
       "      <td>9999-01-01</td>\n",
       "      <td>1956-03-25</td>\n",
       "      <td>Jaideep</td>\n",
       "      <td>Pauthner</td>\n",
       "      <td>F</td>\n",
       "      <td>1994-05-26</td>\n",
       "    </tr>\n",
       "    <tr>\n",
       "      <th>240122</th>\n",
       "      <td>295620</td>\n",
       "      <td>94715</td>\n",
       "      <td>2001-09-14</td>\n",
       "      <td>9999-01-01</td>\n",
       "      <td>1958-09-02</td>\n",
       "      <td>Youpyo</td>\n",
       "      <td>Ushiama</td>\n",
       "      <td>M</td>\n",
       "      <td>1988-09-17</td>\n",
       "    </tr>\n",
       "    <tr>\n",
       "      <th>240123</th>\n",
       "      <td>295622</td>\n",
       "      <td>87346</td>\n",
       "      <td>2002-07-25</td>\n",
       "      <td>9999-01-01</td>\n",
       "      <td>1958-04-21</td>\n",
       "      <td>Shaw</td>\n",
       "      <td>Demian</td>\n",
       "      <td>M</td>\n",
       "      <td>1985-07-29</td>\n",
       "    </tr>\n",
       "  </tbody>\n",
       "</table>\n",
       "<p>240124 rows × 9 columns</p>\n",
       "</div>"
      ],
      "text/plain": [
       "        emp_no  salary   from_date     to_date  birth_date first_name  \\\n",
       "0       493505   47709  2002-02-21  9999-01-01  1952-05-15    Sushant   \n",
       "1       493507   92220  2001-08-16  9999-01-01  1954-05-26        Gay   \n",
       "2       493508   44829  2001-10-14  9999-01-01  1961-11-03     Sugwoo   \n",
       "3       493509   77927  2002-04-22  9999-01-01  1955-01-12       Zito   \n",
       "4       493510   55612  2001-10-12  9999-01-01  1956-05-03    Theirry   \n",
       "...        ...     ...         ...         ...         ...        ...   \n",
       "240119  295615   54545  2001-09-04  9999-01-01  1953-12-21       Mang   \n",
       "240120  295616   70917  2001-09-01  9999-01-01  1962-03-24    Florina   \n",
       "240121  295618   80379  2002-05-24  9999-01-01  1956-03-25    Jaideep   \n",
       "240122  295620   94715  2001-09-14  9999-01-01  1958-09-02     Youpyo   \n",
       "240123  295622   87346  2002-07-25  9999-01-01  1958-04-21       Shaw   \n",
       "\n",
       "         last_name gender   hire_date  \n",
       "0           Basawa      F  1985-02-28  \n",
       "1           Prenel      F  1993-08-18  \n",
       "2          Validov      F  1986-04-16  \n",
       "3            Rande      F  1985-09-19  \n",
       "4       Giarratana      M  1991-09-30  \n",
       "...            ...    ...         ...  \n",
       "240119      Khamsi      F  1988-09-03  \n",
       "240120        Babu      M  1986-09-05  \n",
       "240121    Pauthner      F  1994-05-26  \n",
       "240122     Ushiama      M  1988-09-17  \n",
       "240123      Demian      M  1985-07-29  \n",
       "\n",
       "[240124 rows x 9 columns]"
      ]
     },
     "execution_count": 152,
     "metadata": {},
     "output_type": "execute_result"
    }
   ],
   "source": [
    "df = pd.read_sql(query, url)\n",
    "df"
   ]
  },
  {
   "cell_type": "code",
   "execution_count": null,
   "id": "0421c3d4",
   "metadata": {},
   "outputs": [],
   "source": []
  },
  {
   "cell_type": "markdown",
   "id": "8e3ee600",
   "metadata": {},
   "source": [
    "Is there a relationship between how long an employee has been with the company and the number of titles they have had?"
   ]
  },
  {
   "cell_type": "code",
   "execution_count": null,
   "id": "b8a0a994",
   "metadata": {},
   "outputs": [],
   "source": []
  },
  {
   "cell_type": "markdown",
   "id": "6cafaf29",
   "metadata": {},
   "source": [
    "Use the sleepstudy data.\n",
    "Is there a relationship between days and reaction time?"
   ]
  },
  {
   "cell_type": "code",
   "execution_count": null,
   "id": "874fb86c",
   "metadata": {},
   "outputs": [],
   "source": [
    "null- there is no relationship between days \n",
    "alternative-"
   ]
  },
  {
   "cell_type": "code",
   "execution_count": 137,
   "id": "f493845e",
   "metadata": {},
   "outputs": [],
   "source": [
    "# data('sleepstudy', show_doc=True)"
   ]
  },
  {
   "cell_type": "code",
   "execution_count": 125,
   "id": "64c5e56e",
   "metadata": {},
   "outputs": [
    {
     "data": {
      "text/html": [
       "<div>\n",
       "<style scoped>\n",
       "    .dataframe tbody tr th:only-of-type {\n",
       "        vertical-align: middle;\n",
       "    }\n",
       "\n",
       "    .dataframe tbody tr th {\n",
       "        vertical-align: top;\n",
       "    }\n",
       "\n",
       "    .dataframe thead th {\n",
       "        text-align: right;\n",
       "    }\n",
       "</style>\n",
       "<table border=\"1\" class=\"dataframe\">\n",
       "  <thead>\n",
       "    <tr style=\"text-align: right;\">\n",
       "      <th></th>\n",
       "      <th>Reaction</th>\n",
       "      <th>Days</th>\n",
       "      <th>Subject</th>\n",
       "    </tr>\n",
       "  </thead>\n",
       "  <tbody>\n",
       "    <tr>\n",
       "      <th>1</th>\n",
       "      <td>249.5600</td>\n",
       "      <td>0</td>\n",
       "      <td>308</td>\n",
       "    </tr>\n",
       "    <tr>\n",
       "      <th>2</th>\n",
       "      <td>258.7047</td>\n",
       "      <td>1</td>\n",
       "      <td>308</td>\n",
       "    </tr>\n",
       "    <tr>\n",
       "      <th>3</th>\n",
       "      <td>250.8006</td>\n",
       "      <td>2</td>\n",
       "      <td>308</td>\n",
       "    </tr>\n",
       "    <tr>\n",
       "      <th>4</th>\n",
       "      <td>321.4398</td>\n",
       "      <td>3</td>\n",
       "      <td>308</td>\n",
       "    </tr>\n",
       "    <tr>\n",
       "      <th>5</th>\n",
       "      <td>356.8519</td>\n",
       "      <td>4</td>\n",
       "      <td>308</td>\n",
       "    </tr>\n",
       "    <tr>\n",
       "      <th>...</th>\n",
       "      <td>...</td>\n",
       "      <td>...</td>\n",
       "      <td>...</td>\n",
       "    </tr>\n",
       "    <tr>\n",
       "      <th>176</th>\n",
       "      <td>329.6076</td>\n",
       "      <td>5</td>\n",
       "      <td>372</td>\n",
       "    </tr>\n",
       "    <tr>\n",
       "      <th>177</th>\n",
       "      <td>334.4818</td>\n",
       "      <td>6</td>\n",
       "      <td>372</td>\n",
       "    </tr>\n",
       "    <tr>\n",
       "      <th>178</th>\n",
       "      <td>343.2199</td>\n",
       "      <td>7</td>\n",
       "      <td>372</td>\n",
       "    </tr>\n",
       "    <tr>\n",
       "      <th>179</th>\n",
       "      <td>369.1417</td>\n",
       "      <td>8</td>\n",
       "      <td>372</td>\n",
       "    </tr>\n",
       "    <tr>\n",
       "      <th>180</th>\n",
       "      <td>364.1236</td>\n",
       "      <td>9</td>\n",
       "      <td>372</td>\n",
       "    </tr>\n",
       "  </tbody>\n",
       "</table>\n",
       "<p>180 rows × 3 columns</p>\n",
       "</div>"
      ],
      "text/plain": [
       "     Reaction  Days  Subject\n",
       "1    249.5600     0      308\n",
       "2    258.7047     1      308\n",
       "3    250.8006     2      308\n",
       "4    321.4398     3      308\n",
       "5    356.8519     4      308\n",
       "..        ...   ...      ...\n",
       "176  329.6076     5      372\n",
       "177  334.4818     6      372\n",
       "178  343.2199     7      372\n",
       "179  369.1417     8      372\n",
       "180  364.1236     9      372\n",
       "\n",
       "[180 rows x 3 columns]"
      ]
     },
     "execution_count": 125,
     "metadata": {},
     "output_type": "execute_result"
    }
   ],
   "source": [
    "df = data('sleepstudy')\n",
    "df"
   ]
  },
  {
   "cell_type": "code",
   "execution_count": 126,
   "id": "31e7596a",
   "metadata": {},
   "outputs": [
    {
     "name": "stdout",
     "output_type": "stream",
     "text": [
      "<class 'pandas.core.frame.DataFrame'>\n",
      "Index: 180 entries, 1 to 180\n",
      "Data columns (total 3 columns):\n",
      " #   Column    Non-Null Count  Dtype  \n",
      "---  ------    --------------  -----  \n",
      " 0   Reaction  180 non-null    float64\n",
      " 1   Days      180 non-null    int64  \n",
      " 2   Subject   180 non-null    int64  \n",
      "dtypes: float64(1), int64(2)\n",
      "memory usage: 5.6 KB\n"
     ]
    }
   ],
   "source": [
    "df.info()"
   ]
  },
  {
   "cell_type": "code",
   "execution_count": null,
   "id": "871c366b",
   "metadata": {},
   "outputs": [],
   "source": []
  },
  {
   "cell_type": "code",
   "execution_count": null,
   "id": "ee3f2015",
   "metadata": {},
   "outputs": [],
   "source": []
  },
  {
   "cell_type": "code",
   "execution_count": null,
   "id": "3de61b73",
   "metadata": {},
   "outputs": [],
   "source": []
  },
  {
   "cell_type": "code",
   "execution_count": null,
   "id": "96d78482",
   "metadata": {},
   "outputs": [],
   "source": []
  },
  {
   "cell_type": "code",
   "execution_count": null,
   "id": "208fd881",
   "metadata": {},
   "outputs": [],
   "source": []
  },
  {
   "cell_type": "code",
   "execution_count": null,
   "id": "0a53ad9d",
   "metadata": {},
   "outputs": [],
   "source": []
  },
  {
   "cell_type": "code",
   "execution_count": null,
   "id": "58298913",
   "metadata": {},
   "outputs": [],
   "source": []
  },
  {
   "cell_type": "code",
   "execution_count": null,
   "id": "ca581258",
   "metadata": {},
   "outputs": [],
   "source": []
  },
  {
   "cell_type": "code",
   "execution_count": null,
   "id": "fc4b8355",
   "metadata": {},
   "outputs": [],
   "source": []
  },
  {
   "cell_type": "code",
   "execution_count": null,
   "id": "f3753cce",
   "metadata": {},
   "outputs": [],
   "source": []
  },
  {
   "cell_type": "code",
   "execution_count": null,
   "id": "279c552e",
   "metadata": {},
   "outputs": [],
   "source": []
  },
  {
   "cell_type": "code",
   "execution_count": null,
   "id": "2d71f121",
   "metadata": {},
   "outputs": [],
   "source": []
  },
  {
   "cell_type": "code",
   "execution_count": null,
   "id": "33376fb7",
   "metadata": {},
   "outputs": [],
   "source": []
  },
  {
   "cell_type": "markdown",
   "id": "6fe0c844",
   "metadata": {},
   "source": [
    "part 4"
   ]
  },
  {
   "cell_type": "markdown",
   "id": "03cda4b5",
   "metadata": {},
   "source": [
    "Answer with the type of test you would use (assume normal distribution):\n",
    "Is there a difference in grades of students on the second floor compared to grades of all students?\n"
   ]
  },
  {
   "cell_type": "code",
   "execution_count": 4,
   "id": "95e59cf9",
   "metadata": {},
   "outputs": [],
   "source": [
    "# comparing grades of students on the second floor to all of them "
   ]
  },
  {
   "cell_type": "code",
   "execution_count": null,
   "id": "a22f6800",
   "metadata": {},
   "outputs": [],
   "source": [
    "# 1 sample2 tail t test different "
   ]
  },
  {
   "cell_type": "markdown",
   "id": "bd45a26a",
   "metadata": {},
   "source": [
    "Are adults who drink milk taller than adults who don't drink milk?"
   ]
  },
  {
   "cell_type": "code",
   "execution_count": null,
   "id": "678d0804",
   "metadata": {},
   "outputs": [],
   "source": [
    "# comparing adults who drink milk \n",
    "# to those who do not drink milk and if they are taller "
   ]
  },
  {
   "cell_type": "code",
   "execution_count": null,
   "id": "66a882e9",
   "metadata": {},
   "outputs": [],
   "source": [
    "# 2 sample, 1 tail, 1 test    less than or more than"
   ]
  },
  {
   "cell_type": "markdown",
   "id": "a473f060",
   "metadata": {},
   "source": [
    "Is the price of gas higher in Texas or in New Mexico?\n"
   ]
  },
  {
   "cell_type": "code",
   "execution_count": null,
   "id": "34e0d40b",
   "metadata": {},
   "outputs": [],
   "source": [
    "# comparing gas price from texas to nm"
   ]
  },
  {
   "cell_type": "code",
   "execution_count": null,
   "id": "a5e71bed",
   "metadata": {},
   "outputs": [],
   "source": [
    "# 2 smaple 1 tail 1 test "
   ]
  },
  {
   "cell_type": "markdown",
   "id": "2aa09888",
   "metadata": {},
   "source": [
    "Are there differences in stress levels between students who take data science vs students who take web development vs students who take cloud academy?"
   ]
  },
  {
   "cell_type": "code",
   "execution_count": null,
   "id": "f267dabf",
   "metadata": {},
   "outputs": [],
   "source": [
    "# anova"
   ]
  },
  {
   "cell_type": "markdown",
   "id": "83e53f85",
   "metadata": {},
   "source": [
    "Ace Realty wants to determine whether the average time it takes to sell homes is different for its two offices. A sample of 40 sales from office #1 revealed a mean of 90 days and a standard deviation of 15 days. A sample of 50 sales from office #2 revealed a mean of 100 days and a standard deviation of 20 days. Use a .05 level of significance."
   ]
  },
  {
   "cell_type": "code",
   "execution_count": 7,
   "id": "7e4f6329",
   "metadata": {},
   "outputs": [],
   "source": [
    "mean1 = 90\n",
    "sd1 = 15\n",
    "sam1 = 40\n",
    "\n",
    "\n",
    "sam2 = 50\n",
    "mean2 = 100\n",
    "sd2 = 20"
   ]
  },
  {
   "cell_type": "markdown",
   "id": "6c71cbd0",
   "metadata": {},
   "source": [
    "Null-the time it take to sell his office is the same \n",
    "\n",
    "Alt-the time it take to sell his office is not the same "
   ]
  },
  {
   "cell_type": "code",
   "execution_count": 8,
   "id": "e2570caa",
   "metadata": {},
   "outputs": [
    {
     "data": {
      "text/plain": [
       "Ttest_indResult(statistic=-2.6252287036468456, pvalue=0.01020985244923939)"
      ]
     },
     "execution_count": 8,
     "metadata": {},
     "output_type": "execute_result"
    }
   ],
   "source": [
    "stats.ttest_ind_from_stats(90,15,40,\n",
    "                           100,20,50)"
   ]
  },
  {
   "cell_type": "code",
   "execution_count": 9,
   "id": "c04b2643",
   "metadata": {},
   "outputs": [],
   "source": [
    "t_stat, p_val = stats.ttest_ind_from_stats(90,15,40,\n",
    "                           100,20,50)"
   ]
  },
  {
   "cell_type": "code",
   "execution_count": 14,
   "id": "4c279860",
   "metadata": {},
   "outputs": [
    {
     "name": "stdout",
     "output_type": "stream",
     "text": [
      "We can reject null!\n",
      "Our p_val is 0.01020985244923939\n"
     ]
    }
   ],
   "source": [
    "if p_val < alpha:\n",
    "    print('We can reject null!')\n",
    "    print(f'Our p_val is {p_val}')\n",
    "else:\n",
    "    print('We fail to reject null!')\n"
   ]
  },
  {
   "cell_type": "markdown",
   "id": "f948c9c8",
   "metadata": {},
   "source": [
    "Load the mpg dataset and use it to answer the following questions:"
   ]
  },
  {
   "cell_type": "code",
   "execution_count": null,
   "id": "8d5c85a0",
   "metadata": {},
   "outputs": [],
   "source": []
  },
  {
   "cell_type": "markdown",
   "id": "26c86080",
   "metadata": {},
   "source": [
    "Is there a difference in fuel-efficiency in cars from 2008 vs 1999?"
   ]
  },
  {
   "cell_type": "code",
   "execution_count": null,
   "id": "f5bae307",
   "metadata": {},
   "outputs": [],
   "source": [
    "# 2 sample 2 tail"
   ]
  },
  {
   "cell_type": "markdown",
   "id": "5e5f3fcd",
   "metadata": {},
   "source": [
    "Are compact cars more fuel-efficient than the average car?"
   ]
  },
  {
   "cell_type": "code",
   "execution_count": null,
   "id": "d14787df",
   "metadata": {},
   "outputs": [],
   "source": [
    "# 1 sample 1 tail, 1 test"
   ]
  },
  {
   "cell_type": "markdown",
   "id": "178aef0b",
   "metadata": {},
   "source": [
    "Do manual cars get better gas mileage than automatic cars?"
   ]
  },
  {
   "cell_type": "code",
   "execution_count": null,
   "id": "4a276c44",
   "metadata": {},
   "outputs": [],
   "source": []
  }
 ],
 "metadata": {
  "kernelspec": {
   "display_name": "Python 3 (ipykernel)",
   "language": "python",
   "name": "python3"
  },
  "language_info": {
   "codemirror_mode": {
    "name": "ipython",
    "version": 3
   },
   "file_extension": ".py",
   "mimetype": "text/x-python",
   "name": "python",
   "nbconvert_exporter": "python",
   "pygments_lexer": "ipython3",
   "version": "3.11.5"
  }
 },
 "nbformat": 4,
 "nbformat_minor": 5
}
