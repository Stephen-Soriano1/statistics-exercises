{
 "cells": [
  {
   "cell_type": "code",
   "execution_count": 1,
   "id": "39e6c308",
   "metadata": {},
   "outputs": [],
   "source": [
    "import pandas as pd\n",
    "import eny as eny\n",
    "from scipy import stats\n",
    "import pandas as pd\n",
    "import matplotlib.pyplot as plt\n",
    "\n",
    "\n",
    "\n",
    "url = f'mysql+pymysql://{eny.user}:{eny.password}@{eny.host}/employees'  "
   ]
  },
  {
   "cell_type": "markdown",
   "id": "e8b4878b",
   "metadata": {},
   "source": [
    "A bank found that the average number of cars waiting during the noon hour at a drive-up window follows a Poisson distribution with a mean of 2 cars. Make a chart of this distribution and answer these questions concerning the probability of cars waiting at the drive-up window.\n",
    "\n",
    "What is the probability that no cars drive up in the noon hour?\n",
    "\n",
    "What is the probability that 3 or more cars come through the drive through?\n",
    "\n",
    "How likely is it that the drive through gets at least 1 car?"
   ]
  },
  {
   "cell_type": "code",
   "execution_count": 2,
   "id": "2e38d077",
   "metadata": {},
   "outputs": [],
   "source": [
    "mean = 2 \n",
    "cars_dist = stats.poisson(mean)"
   ]
  },
  {
   "cell_type": "code",
   "execution_count": 3,
   "id": "9e01b007",
   "metadata": {
    "scrolled": true
   },
   "outputs": [
    {
     "data": {
      "image/png": "[encoded data removed]",
      "text/plain": [
       "<Figure size 640x480 with 1 Axes>"
      ]
     },
     "metadata": {},
     "output_type": "display_data"
    }
   ],
   "source": [
    "xs = range(12)\n",
    "ys = [cars_dist.pmf(x) for x in xs]\n",
    "plt.bar(xs, ys)\n",
    "plt.title('Number of Cars that could show up Lunch Hour Window')\n",
    "plt.show()"
   ]
  },
  {
   "cell_type": "code",
   "execution_count": 4,
   "id": "0908a6fd",
   "metadata": {},
   "outputs": [
    {
     "data": {
      "text/plain": [
       "0.1353352832366127"
      ]
     },
     "execution_count": 4,
     "metadata": {},
     "output_type": "execute_result"
    }
   ],
   "source": [
    "cars_dist.pmf(0)"
   ]
  },
  {
   "cell_type": "code",
   "execution_count": 6,
   "id": "db5466c7",
   "metadata": {},
   "outputs": [
    {
     "data": {
      "text/plain": [
       "0.1353352832366127"
      ]
     },
     "execution_count": 6,
     "metadata": {},
     "output_type": "execute_result"
    }
   ],
   "source": [
    "1 - stats.poisson(2).sf(0)"
   ]
  },
  {
   "cell_type": "markdown",
   "id": "e21f5c3b",
   "metadata": {},
   "source": [
    "Grades of State University graduates are normally distributed with a mean of 3.0 and a standard deviation of .3. Calculate the following:\n",
    "\n",
    "What grade point average is required to be in the top 5% of the graduating class?\n",
    "\n",
    "What GPA constitutes the bottom 15% of the class?\n",
    "\n",
    "An eccentric alumnus left scholarship money for students in the third decile from the bottom of their class. Determine the range of the third decile. Would a student with a 2.8 grade point average qualify for this scholarship?\n",
    "\n",
    "If I have a GPA of 3.5, what percentile am I in?"
   ]
  },
  {
   "cell_type": "code",
   "execution_count": 7,
   "id": "1200147d",
   "metadata": {},
   "outputs": [],
   "source": [
    "μ = 3.0\n",
    "σ = .3\n",
    "grades = stats.norm(μ, σ)"
   ]
  },
  {
   "cell_type": "code",
   "execution_count": 8,
   "id": "012b3e4d",
   "metadata": {},
   "outputs": [
    {
     "data": {
      "text/plain": [
       "3.4934560880854417"
      ]
     },
     "execution_count": 8,
     "metadata": {},
     "output_type": "execute_result"
    }
   ],
   "source": [
    "top_5 = grades.isf(.05) # count the top 5\n",
    "top_5"
   ]
  },
  {
   "cell_type": "code",
   "execution_count": 9,
   "id": "e4a9910f",
   "metadata": {},
   "outputs": [
    {
     "data": {
      "text/plain": [
       "3.4934560880854417"
      ]
     },
     "execution_count": 9,
     "metadata": {},
     "output_type": "execute_result"
    }
   ],
   "source": [
    "grades.ppf(.95) # count the other half/ the rest"
   ]
  },
  {
   "cell_type": "code",
   "execution_count": 45,
   "id": "6375d41c",
   "metadata": {},
   "outputs": [
    {
     "data": {
      "text/plain": [
       "2.689069983151863"
      ]
     },
     "execution_count": 45,
     "metadata": {},
     "output_type": "execute_result"
    }
   ],
   "source": [
    "grades.ppf(.15)"
   ]
  },
  {
   "cell_type": "code",
   "execution_count": 11,
   "id": "56cff21a",
   "metadata": {},
   "outputs": [
    {
     "data": {
      "text/plain": [
       "2.7475136299281258"
      ]
     },
     "execution_count": 11,
     "metadata": {},
     "output_type": "execute_result"
    }
   ],
   "source": [
    "grades.ppf(0.2)"
   ]
  },
  {
   "cell_type": "markdown",
   "id": "b0a73048",
   "metadata": {},
   "source": [
    "A marketing website has an average click-through rate of 2%. One day they observe 4326 visitors and 97 click-throughs.\n",
    "How likely is it that this many people or more click through?"
   ]
  },
  {
   "cell_type": "code",
   "execution_count": null,
   "id": "f20b2e17",
   "metadata": {},
   "outputs": [],
   "source": []
  },
  {
   "cell_type": "markdown",
   "id": "59b292d0",
   "metadata": {},
   "source": [
    "You are working on some statistics homework consisting of 100 questions where all of the answers are a probability rounded to the hundreths place. Looking to save time, you put down random probabilities as the answer to each question.\n",
    "\n",
    "What is the probability that at least one of your first 60 answers is correct?"
   ]
  },
  {
   "cell_type": "code",
   "execution_count": null,
   "id": "6e0fe1dc",
   "metadata": {},
   "outputs": [],
   "source": []
  },
  {
   "cell_type": "markdown",
   "id": "c08dd9b9",
   "metadata": {},
   "source": [
    "The codeup staff tends to get upset when the student break area is not cleaned up.\n",
    "Suppose that there's a 3% chance that any one \n",
    "student cleans the break area when they visit it, and, on any given day,\n",
    "about 90% of the 3 active cohorts of 22 students visit the break area. \n",
    "How likely is it that the break area gets cleaned up each day? \n",
    "How likely is it that it goes two days without getting cleaned up? All week?"
   ]
  },
  {
   "cell_type": "code",
   "execution_count": null,
   "id": "7323e1d1",
   "metadata": {},
   "outputs": [],
   "source": []
  },
  {
   "cell_type": "markdown",
   "id": "bd68b0c6",
   "metadata": {},
   "source": [
    "You want to get lunch at La Panaderia, but notice that the line is usually very long at lunchtime. After several weeks of careful observation, you notice that the average number of people in line when your lunch break starts is normally distributed with a mean of 15 and standard deviation of 3. If it takes 2 minutes for each person to order, and 10 minutes from ordering to getting your food, what is the likelihood that you have at least 15 minutes left to eat your food before you have to go back to class? Assume you have one hour for lunch, and ignore travel time to and from La Panaderia."
   ]
  },
  {
   "cell_type": "code",
   "execution_count": null,
   "id": "260988ca",
   "metadata": {},
   "outputs": [],
   "source": []
  },
  {
   "cell_type": "markdown",
   "id": "63151fed",
   "metadata": {},
   "source": [
    "Connect to the employees database and find the average salary of current employees, along with the standard deviation. For the following questions, calculate the answer based on modeling the employees salaries with a normal distribution defined by the calculated mean and standard deviation then compare this answer to the actual values present in the salaries dataset.\n",
    "\n",
    "What percent of employees earn less than 60,000?\n",
    "\n",
    "What percent of employees earn more than 95,000?\n",
    "\n",
    "What percent of employees earn between 65,000 and 80,000?\n",
    "\n",
    "What do the top 5% of employees make?\n"
   ]
  },
  {
   "cell_type": "code",
   "execution_count": 34,
   "id": "7f556aba",
   "metadata": {},
   "outputs": [],
   "source": [
    " salary = pd.read_sql('SELECT * FROM salaries', url)"
   ]
  },
  {
   "cell_type": "code",
   "execution_count": 35,
   "id": "01f3b2ae",
   "metadata": {},
   "outputs": [],
   "source": [
    "emp = pd.read_sql('SELECT * FROM employees ', url)"
   ]
  },
  {
   "cell_type": "code",
   "execution_count": null,
   "id": "15760747",
   "metadata": {},
   "outputs": [],
   "source": [
    " = pd.merge(df_emps, df_depts, how='inner', on='emp_no')\n"
   ]
  }
 ],
 "metadata": {
  "kernelspec": {
   "display_name": "Python 3 (ipykernel)",
   "language": "python",
   "name": "python3"
  },
  "language_info": {
   "codemirror_mode": {
    "name": "ipython",
    "version": 3
   },
   "file_extension": ".py",
   "mimetype": "text/x-python",
   "name": "python",
   "nbconvert_exporter": "python",
   "pygments_lexer": "ipython3",
   "version": "3.11.5"
  }
 },
 "nbformat": 4,
 "nbformat_minor": 5
}
